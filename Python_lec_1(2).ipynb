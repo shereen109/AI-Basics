{
  "cells": [
    {
      "cell_type": "markdown",
      "metadata": {
        "id": "2OM57nMnYrBS"
      },
      "source": [
        "# Objectives\n",
        "\n",
        "After completing this lab you will be able to:\n",
        "\n",
        "* Variables\n",
        "* Data types\n",
        "    * Numbers\n",
        "    * Strings\n",
        "    * Printing\n",
        "    * Lists\n",
        "    * Dictionaries\n",
        "    * Booleans\n",
        "    * Tuples\n",
        "    * Sets\n",
        "\n",
        "* Type Conversion\n",
        "* Comparison Operators\n",
        "* Logical Operators\n",
        "* Assignment Operators\n",
        "* if, elif, else Statements\n",
        "____"
      ]
    },
    {
      "cell_type": "markdown",
      "source": [
        "In Python, variables are used to store data values. These values can be numbers, strings,\n",
        "lists, dictionaries, or any other data type. Variables are essential for manipulating and\n",
        "## working with data in your programs. Here's how you declare and use variables in Python:"
      ],
      "metadata": {
        "id": "Vw9nj8a6w7C8"
      }
    },
    {
      "cell_type": "markdown",
      "source": [
        "Variable Names: Variable names (also known as identifiers) must adhere to the\n",
        "following rules:\n",
        "They can contain letters (a-z, A-Z), digits (0-9), and underscores (_).\n",
        "They cannot start with a digit.\n",
        "Variable names are case-sensitive, so myVar and myvar are treated as different\n",
        "variables.\n",
        "Python has reserved keywords (e.g., if, for, while, print) that cannot be used as variable\n",
        "names.\n",
        "1. Data Types: Python is dynamically typed, which means you don't need to declare the\n",
        "data type of a variable explicitly. Python will determine the data type automatically\n",
        "based on the assigned value."
      ],
      "metadata": {
        "id": "PjTJwqiJxTpn"
      }
    },
    {
      "cell_type": "code",
      "source": [
        "x = 5 # Assigning the integer value 5 to the variable 'x'\n",
        "name = \"Alice\" # Assigning a string value to the variable 'name'"
      ],
      "metadata": {
        "id": "Go3upip_xCVx"
      },
      "execution_count": null,
      "outputs": []
    },
    {
      "cell_type": "markdown",
      "source": [
        "# **Reassignment: You can change the value of a variable by assigning it a new value**"
      ],
      "metadata": {
        "id": "iE_AHB1gxdz_"
      }
    },
    {
      "cell_type": "code",
      "source": [
        "x = 5\n",
        "x = x + 1 # Updating the value of 'x' to 6\n",
        "print(x)"
      ],
      "metadata": {
        "colab": {
          "base_uri": "https://localhost:8080/"
        },
        "id": "GyXl90OIxg8h",
        "outputId": "0718d5d2-ce45-46c7-f7c2-fb5d936bf908"
      },
      "execution_count": null,
      "outputs": [
        {
          "output_type": "stream",
          "name": "stdout",
          "text": [
            "6\n"
          ]
        }
      ]
    },
    {
      "cell_type": "markdown",
      "source": [
        "# **Multiple Assignment: Python allows you to assign multiple variables in a single line.**"
      ],
      "metadata": {
        "id": "ewy2-RUqxrLb"
      }
    },
    {
      "cell_type": "code",
      "source": [
        "a, b, c = 1, 2, 3 # Assigning values 1, 2, and 3 to variables a, b, and c\n",
        "print(a)"
      ],
      "metadata": {
        "colab": {
          "base_uri": "https://localhost:8080/"
        },
        "id": "9M8-mDJ0xwlW",
        "outputId": "329bcb77-6386-4783-d815-39d5e59c1ec7"
      },
      "execution_count": null,
      "outputs": [
        {
          "output_type": "stream",
          "name": "stdout",
          "text": [
            "1\n"
          ]
        }
      ]
    },
    {
      "cell_type": "code",
      "source": [
        "a = 1\n",
        "b = 2\n",
        "c = 3\n",
        "print(a,b,c)"
      ],
      "metadata": {
        "colab": {
          "base_uri": "https://localhost:8080/"
        },
        "id": "OQ_lV_oBx4mX",
        "outputId": "217458f9-cf22-4a65-ba92-86ac1ba7e7d7"
      },
      "execution_count": null,
      "outputs": [
        {
          "output_type": "stream",
          "name": "stdout",
          "text": [
            "1 2 3\n"
          ]
        }
      ]
    },
    {
      "cell_type": "code",
      "source": [
        "a=b=c= 5\n",
        "print(a,b,c)"
      ],
      "metadata": {
        "colab": {
          "base_uri": "https://localhost:8080/"
        },
        "id": "XO86N_w6x8aX",
        "outputId": "9a4f214f-cd58-4e20-86ab-0bc3eef9a110"
      },
      "execution_count": null,
      "outputs": [
        {
          "output_type": "stream",
          "name": "stdout",
          "text": [
            "5 5 5\n"
          ]
        }
      ]
    },
    {
      "cell_type": "markdown",
      "metadata": {
        "id": "V3dAJY9yYrBc"
      },
      "source": [
        "# Data types\n"
      ]
    },
    {
      "cell_type": "code",
      "execution_count": null,
      "metadata": {
        "id": "s7LLWluWYrBg"
      },
      "outputs": [],
      "source": [
        "# integer This data type is used to represent integers, both positive and negative whole\n",
        "x = 5\n",
        "y = -10\n",
        "\n",
        "# float (Decimal)  are used to represent floating-point numbers, which include decimal points. For example,\n",
        "\n",
        "pi = 3.14159\n",
        "value = 2.5\n",
        "\n",
        "\n",
        "# string  (Text) are used to represent sequences of characters, such as text. They can be enclosed in single quotes (' '), double quotes (\" \")\n",
        "strVar='shereen'\n",
        "\n",
        "\"\"\" boolean represent either True or False . They are used for logical operations and comparisons. For example,\n",
        "\"\"\"\n",
        "is_true = True\n",
        "is_false = False\n",
        "passing=False\n",
        "flag2=True\n",
        "\n",
        "# Empty value or null data type\n",
        "\"\"\"\n",
        "The None type represents the absence of a value or a null value. It is often\n",
        "used to indicate that a variable or result has no meaningful value assigned to it.\n",
        "\"\"\"\n",
        "none_var=None   # null\n",
        "\n",
        "#  Complex numbers :  represent numbers with both real and imaginary parts.\n",
        "#They are written as a + bj\n",
        "complex_num = 2 + 3j"
      ]
    },
    {
      "cell_type": "code",
      "execution_count": null,
      "metadata": {
        "colab": {
          "base_uri": "https://localhost:8080/"
        },
        "id": "VJ-YDeK4YrBl",
        "outputId": "59cf837e-f6a7-413c-8f94-2c3225775a11"
      },
      "outputs": [
        {
          "output_type": "stream",
          "name": "stdout",
          "text": [
            "<class 'int'>\n",
            "<class 'str'>\n",
            "<class 'bool'>\n",
            "<class 'float'>\n",
            "<class 'complex'>\n"
          ]
        }
      ],
      "source": [
        "name=\"Shereen\"\n",
        "age=22\n",
        "flag=False\n",
        "number=5.5\n",
        "complex_num = 2 + 3j\n",
        "\n",
        "\n",
        "print(type(age))\n",
        "print(type(name))\n",
        "print(type(flag))\n",
        "print(type(number))\n",
        "print(type(complex_num))"
      ]
    },
    {
      "cell_type": "markdown",
      "metadata": {
        "id": "9zb39bFeYrBm"
      },
      "source": [
        "### Exercise\n",
        "Create variable for each name, age, live and GPA"
      ]
    },
    {
      "cell_type": "code",
      "execution_count": null,
      "metadata": {
        "id": "_exTBXGiYrBn"
      },
      "outputs": [],
      "source": []
    },
    {
      "cell_type": "markdown",
      "metadata": {
        "id": "W3npJvHpYrBn"
      },
      "source": [
        "<details><summary>Click here for the solution</summary>\n",
        "\n",
        "```python\n",
        "# String variable for name\n",
        "name = \"shereen\"\n",
        "\n",
        "# Integer variable for age\n",
        "age = 22\n",
        "\n",
        "# Float variable for GPA\n",
        "GPA = 3.3\n",
        "\n",
        "# String variable for Live\n",
        "live = \"Tanta\"\n",
        "```\n",
        "</details>\n",
        "\n",
        "```"
      ]
    },
    {
      "cell_type": "markdown",
      "metadata": {
        "id": "F9ughss5YrBo"
      },
      "source": [
        "### Operations"
      ]
    },
    {
      "cell_type": "code",
      "execution_count": null,
      "metadata": {
        "colab": {
          "base_uri": "https://localhost:8080/"
        },
        "id": "4ZqsadoWYrBo",
        "outputId": "256bdf76-e894-4bdf-d82c-988b9bab7f1b"
      },
      "outputs": [
        {
          "output_type": "execute_result",
          "data": {
            "text/plain": [
              "2"
            ]
          },
          "metadata": {},
          "execution_count": 27
        }
      ],
      "source": [
        "1 + 1"
      ]
    },
    {
      "cell_type": "code",
      "execution_count": null,
      "metadata": {
        "colab": {
          "base_uri": "https://localhost:8080/"
        },
        "id": "AaJp9DObYrBp",
        "outputId": "23c4109e-fe51-4d3a-8653-d93ab45f2cf5"
      },
      "outputs": [
        {
          "output_type": "execute_result",
          "data": {
            "text/plain": [
              "3"
            ]
          },
          "metadata": {},
          "execution_count": 28
        }
      ],
      "source": [
        "1 * 3"
      ]
    },
    {
      "cell_type": "code",
      "execution_count": null,
      "metadata": {
        "colab": {
          "base_uri": "https://localhost:8080/"
        },
        "id": "0K5Dm8jTYrBp",
        "outputId": "e7d27e9c-3352-455a-cae8-35de49faba26"
      },
      "outputs": [
        {
          "output_type": "execute_result",
          "data": {
            "text/plain": [
              "0.5"
            ]
          },
          "metadata": {},
          "execution_count": 29
        }
      ],
      "source": [
        "1 / 2"
      ]
    },
    {
      "cell_type": "code",
      "execution_count": null,
      "metadata": {
        "colab": {
          "base_uri": "https://localhost:8080/"
        },
        "id": "ufTlWqPhYrBp",
        "outputId": "ea4b12a9-cfc7-4556-aac6-55c309af652f"
      },
      "outputs": [
        {
          "output_type": "execute_result",
          "data": {
            "text/plain": [
              "16"
            ]
          },
          "metadata": {},
          "execution_count": 30
        }
      ],
      "source": [
        "2 ** 4"
      ]
    },
    {
      "cell_type": "code",
      "execution_count": null,
      "metadata": {
        "colab": {
          "base_uri": "https://localhost:8080/"
        },
        "id": "cwVcbRU1YrBq",
        "outputId": "23f1cb1d-00a4-46b7-c158-3986e8bc662e"
      },
      "outputs": [
        {
          "output_type": "execute_result",
          "data": {
            "text/plain": [
              "0"
            ]
          },
          "metadata": {},
          "execution_count": 32
        }
      ],
      "source": [
        "4 % 2"
      ]
    },
    {
      "cell_type": "code",
      "execution_count": null,
      "metadata": {
        "colab": {
          "base_uri": "https://localhost:8080/"
        },
        "id": "_SpJj5uxYrBr",
        "outputId": "9c5183ea-bf36-42ad-feed-a04302861693"
      },
      "outputs": [
        {
          "output_type": "execute_result",
          "data": {
            "text/plain": [
              "1"
            ]
          },
          "metadata": {},
          "execution_count": 31
        }
      ],
      "source": [
        "5 % 2"
      ]
    },
    {
      "cell_type": "code",
      "execution_count": null,
      "metadata": {
        "colab": {
          "base_uri": "https://localhost:8080/"
        },
        "id": "y4_hdOYmYrBr",
        "outputId": "b0a76b35-e139-4e3a-8741-69626998e5d4"
      },
      "outputs": [
        {
          "output_type": "execute_result",
          "data": {
            "text/plain": [
              "50"
            ]
          },
          "metadata": {},
          "execution_count": 33
        }
      ],
      "source": [
        "(2 + 3) * (5 + 5)"
      ]
    },
    {
      "cell_type": "markdown",
      "metadata": {
        "id": "ItL-Ew-OYrBr"
      },
      "source": [
        "### Variable Assignment"
      ]
    },
    {
      "cell_type": "code",
      "execution_count": null,
      "metadata": {
        "id": "KDk3Ow-kYrBs"
      },
      "outputs": [],
      "source": [
        "# Can not start with number or special characters\n",
        "name_of_var = 2"
      ]
    },
    {
      "cell_type": "code",
      "execution_count": null,
      "metadata": {
        "id": "vS2rM_3uYrBs"
      },
      "outputs": [],
      "source": [
        "x = 2\n",
        "y = 3"
      ]
    },
    {
      "cell_type": "code",
      "execution_count": null,
      "metadata": {
        "id": "U6fE2QPlYrBs"
      },
      "outputs": [],
      "source": [
        "z = x + y"
      ]
    },
    {
      "cell_type": "code",
      "execution_count": null,
      "metadata": {
        "colab": {
          "base_uri": "https://localhost:8080/"
        },
        "id": "51Xo2yy6YrBs",
        "outputId": "da76a1d8-550b-4d42-f3b9-44c1d37c04ce"
      },
      "outputs": [
        {
          "output_type": "execute_result",
          "data": {
            "text/plain": [
              "5"
            ]
          },
          "metadata": {},
          "execution_count": 37
        }
      ],
      "source": [
        "z"
      ]
    },
    {
      "cell_type": "markdown",
      "metadata": {
        "id": "bDoJZnefYrBt"
      },
      "source": [
        "### Exercise\n",
        "Create Equation y= (2x+3) + (9 - 5*x) - (x/3)     give x = 10 , 0 , -10"
      ]
    },
    {
      "cell_type": "code",
      "execution_count": null,
      "metadata": {
        "id": "DYyPZIQRYrBt"
      },
      "outputs": [],
      "source": []
    },
    {
      "cell_type": "markdown",
      "metadata": {
        "id": "M4Jzb0NEYrBt"
      },
      "source": [
        "<details><summary>Click here for the solution</summary>\n",
        "\n",
        "```python\n",
        "# Calculate y for x = 10\n",
        "x = 10\n",
        "y1 = (2 * x + 3) + (9 - 5 * x) - (x / 3)\n",
        "print(y1)\n",
        "\n",
        "# Calculate y for x = 0\n",
        "x = 0\n",
        "y2 = (2 * x + 3) + (9 - 5 * x) - (x / 3)\n",
        "print(y2)\n",
        "\n",
        "# Calculate y for x = -10\n",
        "x = -10\n",
        "y3 = (2 * x + 3) + (9 - 5 * x) - (x / 3)\n",
        "print(y3)\n",
        "\n",
        "```"
      ]
    },
    {
      "cell_type": "markdown",
      "metadata": {
        "id": "f_iYLKOUYrBu"
      },
      "source": [
        "### Strings"
      ]
    },
    {
      "cell_type": "code",
      "execution_count": null,
      "metadata": {
        "colab": {
          "base_uri": "https://localhost:8080/",
          "height": 35
        },
        "id": "bWa-UQQuYrBv",
        "outputId": "d843a1c7-4b35-4740-cb97-9d982cc70701"
      },
      "outputs": [
        {
          "output_type": "execute_result",
          "data": {
            "text/plain": [
              "'single quotes'"
            ],
            "application/vnd.google.colaboratory.intrinsic+json": {
              "type": "string"
            }
          },
          "metadata": {},
          "execution_count": 38
        }
      ],
      "source": [
        "'single quotes'"
      ]
    },
    {
      "cell_type": "code",
      "execution_count": null,
      "metadata": {
        "colab": {
          "base_uri": "https://localhost:8080/",
          "height": 35
        },
        "id": "Day72-YXYrBw",
        "outputId": "13ef67a3-1869-4ab8-d241-c684acf8d7a2"
      },
      "outputs": [
        {
          "output_type": "execute_result",
          "data": {
            "text/plain": [
              "'double quotes'"
            ],
            "application/vnd.google.colaboratory.intrinsic+json": {
              "type": "string"
            }
          },
          "metadata": {},
          "execution_count": 39
        }
      ],
      "source": [
        "\"double quotes\""
      ]
    },
    {
      "cell_type": "code",
      "execution_count": null,
      "metadata": {
        "colab": {
          "base_uri": "https://localhost:8080/",
          "height": 35
        },
        "id": "Pzk47eyqYrBw",
        "outputId": "97c9cae7-dfcb-444d-f491-1ae1040f538a"
      },
      "outputs": [
        {
          "output_type": "execute_result",
          "data": {
            "text/plain": [
              "\" wrap lot's of other quotes\""
            ],
            "application/vnd.google.colaboratory.intrinsic+json": {
              "type": "string"
            }
          },
          "metadata": {},
          "execution_count": 40
        }
      ],
      "source": [
        "\" wrap lot's of other quotes\""
      ]
    },
    {
      "cell_type": "markdown",
      "metadata": {
        "id": "wZk9V-ZtYrBx"
      },
      "source": [
        "### Exercise\n",
        "Create Variable with multi line\n",
        "\n",
        " My name is Shereen.\n",
        "\n",
        " Age 22.\n",
        "  \n",
        " Live in Tanta"
      ]
    },
    {
      "cell_type": "code",
      "source": [],
      "metadata": {
        "id": "gKcMraBNZ0tm"
      },
      "execution_count": null,
      "outputs": []
    },
    {
      "cell_type": "markdown",
      "metadata": {
        "id": "OgeXIU0qYrBx"
      },
      "source": [
        "<details><summary>Click here for the solution</summary>\n",
        "\n",
        "```python\n",
        "\n",
        "data = \"\"\"\n",
        " My name isshereen.\n",
        " Age 22\n",
        " Live in Tanta\n",
        "\"\"\"\n",
        "print(data)\n",
        "\n",
        "```\n",
        "</details>\n",
        "\n",
        "```"
      ]
    },
    {
      "cell_type": "markdown",
      "metadata": {
        "id": "Zfpc1u-gYrBy"
      },
      "source": [
        "### Printing"
      ]
    },
    {
      "cell_type": "code",
      "source": [
        "# Python is case sensitive\n",
        "print('Hello World')"
      ],
      "metadata": {
        "colab": {
          "base_uri": "https://localhost:8080/"
        },
        "id": "WZOCPSbAt0Da",
        "outputId": "92458370-bb6f-4b40-cd22-19c3929ad109"
      },
      "execution_count": null,
      "outputs": [
        {
          "output_type": "stream",
          "name": "stdout",
          "text": [
            "Hello World\n"
          ]
        }
      ]
    },
    {
      "cell_type": "code",
      "source": [
        "print(hey) # it throws error beacuse only string is always in \" \""
      ],
      "metadata": {
        "colab": {
          "base_uri": "https://localhost:8080/",
          "height": 144
        },
        "id": "zA1T2BmQt_W9",
        "outputId": "90c44289-c09c-4f03-bb39-1861212997d5"
      },
      "execution_count": null,
      "outputs": [
        {
          "output_type": "error",
          "ename": "NameError",
          "evalue": "name 'hey' is not defined",
          "traceback": [
            "\u001b[0;31m---------------------------------------------------------------------------\u001b[0m",
            "\u001b[0;31mNameError\u001b[0m                                 Traceback (most recent call last)",
            "\u001b[0;32m<ipython-input-2-3739b76271a8>\u001b[0m in \u001b[0;36m<cell line: 0>\u001b[0;34m()\u001b[0m\n\u001b[0;32m----> 1\u001b[0;31m \u001b[0mprint\u001b[0m\u001b[0;34m(\u001b[0m\u001b[0mhey\u001b[0m\u001b[0;34m)\u001b[0m \u001b[0;31m# it throws error beacuse only string is always in \" \"\u001b[0m\u001b[0;34m\u001b[0m\u001b[0;34m\u001b[0m\u001b[0m\n\u001b[0m",
            "\u001b[0;31mNameError\u001b[0m: name 'hey' is not defined"
          ]
        }
      ]
    },
    {
      "cell_type": "code",
      "source": [
        "print(7)"
      ],
      "metadata": {
        "colab": {
          "base_uri": "https://localhost:8080/"
        },
        "id": "0egkmDWSuHFS",
        "outputId": "79915598-6c1c-4857-d782-0b05f3cd4f42"
      },
      "execution_count": null,
      "outputs": [
        {
          "output_type": "stream",
          "name": "stdout",
          "text": [
            "7\n"
          ]
        }
      ]
    },
    {
      "cell_type": "code",
      "source": [
        "# how print function strng in python -- it print all the values which we want to pr\n",
        "print('Hello',3,4,5,True)"
      ],
      "metadata": {
        "colab": {
          "base_uri": "https://localhost:8080/"
        },
        "id": "odXrThE8uOtZ",
        "outputId": "d9040e5c-9c39-4298-c0af-52bdb94891c9"
      },
      "execution_count": null,
      "outputs": [
        {
          "output_type": "stream",
          "name": "stdout",
          "text": [
            "Hello 3 4 5 True\n"
          ]
        }
      ]
    },
    {
      "cell_type": "code",
      "source": [
        "# sep\n",
        "print('Hello',3,4,5,True,sep='/')"
      ],
      "metadata": {
        "colab": {
          "base_uri": "https://localhost:8080/"
        },
        "id": "aT3w9NqBug97",
        "outputId": "afec1d93-76f8-47e8-9407-4700ffc68480"
      },
      "execution_count": null,
      "outputs": [
        {
          "output_type": "stream",
          "name": "stdout",
          "text": [
            "Hello/3/4/5/True\n"
          ]
        }
      ]
    },
    {
      "cell_type": "code",
      "execution_count": null,
      "metadata": {
        "id": "thZ-n2i6YrBy"
      },
      "outputs": [],
      "source": [
        "x = 'hello'"
      ]
    },
    {
      "cell_type": "code",
      "execution_count": null,
      "metadata": {
        "colab": {
          "base_uri": "https://localhost:8080/",
          "height": 35
        },
        "id": "ScSniCFRYrBy",
        "outputId": "aaa1e105-eab7-4805-ba31-72634cae88dd"
      },
      "outputs": [
        {
          "output_type": "execute_result",
          "data": {
            "text/plain": [
              "'hello'"
            ],
            "application/vnd.google.colaboratory.intrinsic+json": {
              "type": "string"
            }
          },
          "metadata": {},
          "execution_count": 46
        }
      ],
      "source": [
        "x"
      ]
    },
    {
      "cell_type": "code",
      "execution_count": null,
      "metadata": {
        "colab": {
          "base_uri": "https://localhost:8080/"
        },
        "id": "zzCiC7yKYrBz",
        "outputId": "97b3111e-2d7f-4690-d16b-fe3aff62a657"
      },
      "outputs": [
        {
          "output_type": "stream",
          "name": "stdout",
          "text": [
            "hello\n"
          ]
        }
      ],
      "source": [
        "print(x)"
      ]
    },
    {
      "cell_type": "code",
      "execution_count": null,
      "metadata": {
        "id": "JDLN3JAdYrBz"
      },
      "outputs": [],
      "source": [
        "num = 22\n",
        "name = 'shereen'"
      ]
    },
    {
      "cell_type": "code",
      "execution_count": null,
      "metadata": {
        "colab": {
          "base_uri": "https://localhost:8080/"
        },
        "id": "uFAodfOzYrBz",
        "outputId": "82618428-3244-4a63-f5cb-45968e54434c"
      },
      "outputs": [
        {
          "output_type": "stream",
          "name": "stdout",
          "text": [
            "My number is: 22, and my name is: shereen\n"
          ]
        }
      ],
      "source": [
        "print('My number is: {one}, and my name is: {two}'.format(one=num,two=name))"
      ]
    },
    {
      "cell_type": "code",
      "execution_count": null,
      "metadata": {
        "colab": {
          "base_uri": "https://localhost:8080/"
        },
        "id": "EU9TwgqTYrBz",
        "outputId": "26459716-59bb-415c-b518-1bfd294d4b8d"
      },
      "outputs": [
        {
          "output_type": "stream",
          "name": "stdout",
          "text": [
            "My number is: 22, and my name is: shereen\n"
          ]
        }
      ],
      "source": [
        "print('My number is: {}, and my name is: {}'.format(num,name))"
      ]
    },
    {
      "cell_type": "code",
      "execution_count": null,
      "metadata": {
        "colab": {
          "base_uri": "https://localhost:8080/"
        },
        "id": "4BpXIppuYrB0",
        "outputId": "66781fd1-0973-49e2-9978-f0dee868cd12"
      },
      "outputs": [
        {
          "output_type": "stream",
          "name": "stdout",
          "text": [
            "My number is: 22, and my name is: shereen\n"
          ]
        }
      ],
      "source": [
        "print(f'My number is: {num}, and my name is: {name}')"
      ]
    },
    {
      "cell_type": "markdown",
      "metadata": {
        "id": "JpoDmHTTYrB0"
      },
      "source": [
        "### Exercise\n",
        "Create Three Variable\n",
        "\n",
        "Name\n",
        "\n",
        "Age\n",
        "\n",
        "Live\n",
        "\n",
        "Factory\n",
        "\n",
        "then Print for each Way"
      ]
    },
    {
      "cell_type": "code",
      "source": [],
      "metadata": {
        "id": "1DOsTQMxaLtC"
      },
      "execution_count": null,
      "outputs": []
    },
    {
      "cell_type": "markdown",
      "metadata": {
        "id": "kAQP5UzZYrB1"
      },
      "source": [
        "<details><summary>Click here for the solution</summary>\n",
        "\n",
        "```python\n",
        "\n",
        "Name = \"shereen\"\n",
        "Age = 22\n",
        "Live =  \"Tanta\"\n",
        "Factory = \"BFCAI\"\n",
        "print(' My name is {one} \\n my age is {two} \\n live in {three} \\n my Factory {four}'.format(one=Name,two=Age,three=Live,four=Factory))\n",
        "print(' My name is {} \\n my age is {} \\n live in {} \\n my Factory {}'.format(Name,Age,Live,Factory))\n",
        "print(f' My name is {Name} \\n my age is {Age} \\n live in {Live} \\n my Factory {Factory}')\n",
        "```\n",
        "</details>\n",
        "\n",
        "```"
      ]
    },
    {
      "cell_type": "markdown",
      "metadata": {
        "id": "gfd4K0SPYrB1"
      },
      "source": [
        "###  User input\n",
        "\n",
        "How to get Input from the user in python?"
      ]
    },
    {
      "cell_type": "code",
      "source": [
        "input('Enter Email')"
      ],
      "metadata": {
        "colab": {
          "base_uri": "https://localhost:8080/",
          "height": 53
        },
        "id": "-lYkRsDAyyvA",
        "outputId": "4cd24b68-2437-4de2-8a02-3c4d02718e9b"
      },
      "execution_count": null,
      "outputs": [
        {
          "name": "stdout",
          "output_type": "stream",
          "text": [
            "Enter Email3\n"
          ]
        },
        {
          "output_type": "execute_result",
          "data": {
            "text/plain": [
              "'3'"
            ],
            "application/vnd.google.colaboratory.intrinsic+json": {
              "type": "string"
            }
          },
          "metadata": {},
          "execution_count": 52
        }
      ]
    },
    {
      "cell_type": "code",
      "source": [
        "# take input from users and store them in a variable\n",
        "fnum = int(input('enter first number'))\n",
        "snum = int(input('enter second number'))\n",
        "#print(type(fnum),type(snum))\n",
        "# add the 2 variables\n",
        "result = fnum + snum\n",
        "# print the result\n",
        "print(result)\n",
        "print(type(fnum))"
      ],
      "metadata": {
        "colab": {
          "base_uri": "https://localhost:8080/"
        },
        "id": "ZXvUnkN_y70J",
        "outputId": "c66fb1d2-3063-4221-ba2e-574edc027ab4"
      },
      "execution_count": null,
      "outputs": [
        {
          "output_type": "stream",
          "name": "stdout",
          "text": [
            "enter first number3\n",
            "enter second number3\n",
            "6\n",
            "<class 'int'>\n"
          ]
        }
      ]
    },
    {
      "cell_type": "code",
      "execution_count": null,
      "metadata": {
        "colab": {
          "base_uri": "https://localhost:8080/"
        },
        "id": "tnoy6VuMYrB1",
        "outputId": "bf496069-ccd6-4355-d991-8440099f5ea1"
      },
      "outputs": [
        {
          "output_type": "stream",
          "name": "stdout",
          "text": [
            "Enter number: 4\n",
            "4\n",
            "<class 'str'>\n"
          ]
        }
      ],
      "source": [
        "a=input('Enter number: ')\n",
        "print(a)\n",
        "print(type(a))"
      ]
    },
    {
      "cell_type": "code",
      "execution_count": null,
      "metadata": {
        "colab": {
          "base_uri": "https://localhost:8080/"
        },
        "id": "291jCuchYrB2",
        "outputId": "e49ccb45-51a3-4dc2-b891-672081711832"
      },
      "outputs": [
        {
          "output_type": "stream",
          "name": "stdout",
          "text": [
            "Enter number: 4\n",
            "4\n",
            "<class 'int'>\n"
          ]
        }
      ],
      "source": [
        "a=int(input('Enter number: '))\n",
        "print(a)\n",
        "print(type(a))"
      ]
    },
    {
      "cell_type": "code",
      "execution_count": null,
      "metadata": {
        "colab": {
          "base_uri": "https://localhost:8080/",
          "height": 35
        },
        "id": "tw-VZS5EYrB3",
        "outputId": "3dc6a793-eded-492f-953e-ad5bd1a8eca7"
      },
      "outputs": [
        {
          "output_type": "execute_result",
          "data": {
            "text/plain": [
              "'7.2'"
            ],
            "application/vnd.google.colaboratory.intrinsic+json": {
              "type": "string"
            }
          },
          "metadata": {},
          "execution_count": 54
        }
      ],
      "source": [
        "a = '7.2'\n",
        "a"
      ]
    },
    {
      "cell_type": "code",
      "execution_count": null,
      "metadata": {
        "colab": {
          "base_uri": "https://localhost:8080/"
        },
        "id": "YKMxi-V9YrB3",
        "outputId": "8bad4f32-85bf-4f20-aabc-68d618290b28"
      },
      "outputs": [
        {
          "output_type": "execute_result",
          "data": {
            "text/plain": [
              "5"
            ]
          },
          "metadata": {},
          "execution_count": 55
        }
      ],
      "source": [
        "a = '5'\n",
        "int(a)"
      ]
    },
    {
      "cell_type": "code",
      "execution_count": null,
      "metadata": {
        "colab": {
          "base_uri": "https://localhost:8080/"
        },
        "id": "PtgdHitDYrB3",
        "outputId": "4738ff68-f888-408a-bb83-8a4bb390c0e2"
      },
      "outputs": [
        {
          "output_type": "execute_result",
          "data": {
            "text/plain": [
              "5.6"
            ]
          },
          "metadata": {},
          "execution_count": 56
        }
      ],
      "source": [
        "a = '5.6'\n",
        "float(a)"
      ]
    },
    {
      "cell_type": "code",
      "execution_count": null,
      "metadata": {
        "colab": {
          "base_uri": "https://localhost:8080/",
          "height": 35
        },
        "id": "V-V2F3KeYrB3",
        "outputId": "309e435d-42df-441c-eff3-53b29e4f432f"
      },
      "outputs": [
        {
          "output_type": "execute_result",
          "data": {
            "text/plain": [
              "'10'"
            ],
            "application/vnd.google.colaboratory.intrinsic+json": {
              "type": "string"
            }
          },
          "metadata": {},
          "execution_count": 57
        }
      ],
      "source": [
        "a = 10\n",
        "str(a)"
      ]
    },
    {
      "cell_type": "code",
      "execution_count": null,
      "metadata": {
        "colab": {
          "base_uri": "https://localhost:8080/"
        },
        "id": "ygfhfO6MYrB3",
        "outputId": "fae225c2-6d49-42b8-ce86-40d4b0a7d9ff"
      },
      "outputs": [
        {
          "output_type": "execute_result",
          "data": {
            "text/plain": [
              "5"
            ]
          },
          "metadata": {},
          "execution_count": 58
        }
      ],
      "source": [
        "int(float('5.5'))"
      ]
    },
    {
      "cell_type": "markdown",
      "metadata": {
        "id": "R0rD6ETaYrB4"
      },
      "source": [
        "### Exercise\n",
        "Take Value from user and convert it to integer and floating and string"
      ]
    },
    {
      "cell_type": "code",
      "execution_count": null,
      "metadata": {
        "id": "ke818GTVYrB4",
        "outputId": "fe2e2f51-eb27-4140-bc06-a4eb09b4e721"
      },
      "outputs": [
        {
          "name": "stdout",
          "output_type": "stream",
          "text": [
            "Enter number 1\n"
          ]
        },
        {
          "name": "stdout",
          "output_type": "stream",
          "text": [
            "<class 'str'>\n",
            "1\n",
            "1.0\n",
            "1\n"
          ]
        }
      ],
      "source": []
    },
    {
      "cell_type": "markdown",
      "metadata": {
        "id": "lQx69tPJYrB4"
      },
      "source": [
        "<details><summary>Click here for the solution</summary>\n",
        "\n",
        "```python\n",
        "\n",
        "V = input(\"Enter number\")\n",
        "print(type(V))\n",
        "print(int(V))\n",
        "print(float(V))\n",
        "print(str(V))\n",
        "```\n",
        "</details>\n",
        "\n",
        "```"
      ]
    },
    {
      "cell_type": "markdown",
      "metadata": {
        "id": "SbxHlMTOYrB6"
      },
      "source": [
        "### Lists"
      ]
    },
    {
      "cell_type": "markdown",
      "source": [
        "# **List**\n",
        "In Python, a list is a data type used to store a collection of values. It is one of the built-in\n",
        "data types and is classified as a sequence type. Lists are ordered, mutable (which means you\n",
        "can change their contents), and can contain elements of different data types, including\n",
        "integers, floats, strings, or even other lists.\n",
        "You can create a list in Python by enclosing a comma-separated sequence of values within\n",
        "square brackets [ ]. For example:"
      ],
      "metadata": {
        "id": "Z1xzkLqLu9Jb"
      }
    },
    {
      "cell_type": "code",
      "source": [
        "#Creating a List\n",
        "# Empty\n",
        "print([])\n",
        "# 1D -> Homo\n",
        "print([1,2,3,4,5])\n",
        "# 2D\n",
        "print([1,2,3,[4,5]])\n",
        "# 3D\n",
        "print([[[1,2],[3,4]]])\n",
        "# Heterogenous\n",
        "print([1,True,5.6,5+6j,'Hello'])\n",
        "# Using Type conversion\n",
        "print(list('hello'))"
      ],
      "metadata": {
        "colab": {
          "base_uri": "https://localhost:8080/"
        },
        "id": "kCaoaLm5XBYa",
        "outputId": "88265013-bda5-46e6-92af-faa9aff478ea"
      },
      "execution_count": null,
      "outputs": [
        {
          "output_type": "stream",
          "name": "stdout",
          "text": [
            "[]\n",
            "[1, 2, 3, 4, 5]\n",
            "[1, 2, 3, [4, 5]]\n",
            "[[[1, 2], [3, 4]]]\n",
            "[1, True, 5.6, (5+6j), 'Hello']\n",
            "['h', 'e', 'l', 'l', 'o']\n"
          ]
        }
      ]
    },
    {
      "cell_type": "code",
      "execution_count": null,
      "metadata": {
        "colab": {
          "base_uri": "https://localhost:8080/"
        },
        "id": "60-hS-fSYrB6",
        "outputId": "b112bdb4-3af5-4362-ecd7-16bec2a93500"
      },
      "outputs": [
        {
          "output_type": "execute_result",
          "data": {
            "text/plain": [
              "[1, 2, 3]"
            ]
          },
          "metadata": {},
          "execution_count": 60
        }
      ],
      "source": [
        "[1,2,3]"
      ]
    },
    {
      "cell_type": "code",
      "execution_count": null,
      "metadata": {
        "id": "qOqPoMgnYrB6"
      },
      "outputs": [],
      "source": [
        "l=[]  # l = list()"
      ]
    },
    {
      "cell_type": "code",
      "execution_count": null,
      "metadata": {
        "colab": {
          "base_uri": "https://localhost:8080/"
        },
        "id": "lkukEf0kYrB6",
        "outputId": "5eb1df0c-fa5d-485e-b188-53fc7b149ed6"
      },
      "outputs": [
        {
          "output_type": "execute_result",
          "data": {
            "text/plain": [
              "['hi', 1, [1, 2]]"
            ]
          },
          "metadata": {},
          "execution_count": 62
        }
      ],
      "source": [
        "['hi',1,[1,2]]"
      ]
    },
    {
      "cell_type": "code",
      "execution_count": null,
      "metadata": {
        "id": "dhwW3xpFYrB6"
      },
      "outputs": [],
      "source": [
        "my_list = ['a','b','c']"
      ]
    },
    {
      "cell_type": "code",
      "execution_count": null,
      "metadata": {
        "colab": {
          "base_uri": "https://localhost:8080/"
        },
        "id": "vS7bqLkZYrB6",
        "outputId": "9a7a4d77-8e8f-4a33-c3b7-1d1e6695c7d2"
      },
      "outputs": [
        {
          "output_type": "execute_result",
          "data": {
            "text/plain": [
              "['a', 'b', 'c']"
            ]
          },
          "metadata": {},
          "execution_count": 64
        }
      ],
      "source": [
        "my_list"
      ]
    },
    {
      "cell_type": "code",
      "execution_count": null,
      "metadata": {
        "colab": {
          "base_uri": "https://localhost:8080/",
          "height": 35
        },
        "id": "vVER2wWIYrB7",
        "outputId": "f20372d0-4060-4489-8cae-224485073b05"
      },
      "outputs": [
        {
          "output_type": "execute_result",
          "data": {
            "text/plain": [
              "'a'"
            ],
            "application/vnd.google.colaboratory.intrinsic+json": {
              "type": "string"
            }
          },
          "metadata": {},
          "execution_count": 66
        }
      ],
      "source": [
        "my_list[0]"
      ]
    },
    {
      "cell_type": "code",
      "execution_count": null,
      "metadata": {
        "colab": {
          "base_uri": "https://localhost:8080/",
          "height": 35
        },
        "id": "IPHBRlHOYrB7",
        "outputId": "4c28e47d-d213-45b3-d074-c640a788cbfe"
      },
      "outputs": [
        {
          "output_type": "execute_result",
          "data": {
            "text/plain": [
              "'b'"
            ],
            "application/vnd.google.colaboratory.intrinsic+json": {
              "type": "string"
            }
          },
          "metadata": {},
          "execution_count": 65
        }
      ],
      "source": [
        "my_list[1]"
      ]
    },
    {
      "cell_type": "code",
      "execution_count": null,
      "metadata": {
        "colab": {
          "base_uri": "https://localhost:8080/"
        },
        "id": "aTxWN1jIYrB8",
        "outputId": "ea1094a9-5ee5-4f83-d37b-62d332e509f4"
      },
      "outputs": [
        {
          "output_type": "execute_result",
          "data": {
            "text/plain": [
              "['b', 'c']"
            ]
          },
          "metadata": {},
          "execution_count": 67
        }
      ],
      "source": [
        "my_list[1:]"
      ]
    },
    {
      "cell_type": "code",
      "execution_count": null,
      "metadata": {
        "colab": {
          "base_uri": "https://localhost:8080/"
        },
        "id": "NeLhLimVYrB8",
        "outputId": "3353fff8-adeb-4ccf-ada8-08b93e8a11e6"
      },
      "outputs": [
        {
          "output_type": "execute_result",
          "data": {
            "text/plain": [
              "['a']"
            ]
          },
          "metadata": {},
          "execution_count": 68
        }
      ],
      "source": [
        "my_list[:1]"
      ]
    },
    {
      "cell_type": "code",
      "execution_count": null,
      "metadata": {
        "id": "yYyhpi63YrB8"
      },
      "outputs": [],
      "source": [
        "my_list[0] = 'NEW'"
      ]
    },
    {
      "cell_type": "code",
      "execution_count": null,
      "metadata": {
        "colab": {
          "base_uri": "https://localhost:8080/"
        },
        "id": "PsVEf3EIYrB9",
        "outputId": "ec4dabda-54f4-4e64-b690-bf2fb68cfc87"
      },
      "outputs": [
        {
          "output_type": "execute_result",
          "data": {
            "text/plain": [
              "['NEW', 'b', 'c']"
            ]
          },
          "metadata": {},
          "execution_count": 70
        }
      ],
      "source": [
        "my_list"
      ]
    },
    {
      "cell_type": "code",
      "execution_count": null,
      "metadata": {
        "id": "hpDfcLxGYrB9"
      },
      "outputs": [],
      "source": [
        "nest = [1,2,3,[4,5,['target']]]"
      ]
    },
    {
      "cell_type": "code",
      "execution_count": null,
      "metadata": {
        "colab": {
          "base_uri": "https://localhost:8080/"
        },
        "id": "5NEobEtxYrB_",
        "outputId": "95eabacf-a556-4206-9946-c0d9f835aefb"
      },
      "outputs": [
        {
          "output_type": "execute_result",
          "data": {
            "text/plain": [
              "[4, 5, ['target']]"
            ]
          },
          "metadata": {},
          "execution_count": 72
        }
      ],
      "source": [
        "nest[3]"
      ]
    },
    {
      "cell_type": "code",
      "execution_count": null,
      "metadata": {
        "colab": {
          "base_uri": "https://localhost:8080/"
        },
        "id": "h_O0N6B3YrB_",
        "outputId": "518038e6-5a8d-488c-f252-6fee7fbc622b"
      },
      "outputs": [
        {
          "output_type": "execute_result",
          "data": {
            "text/plain": [
              "['target']"
            ]
          },
          "metadata": {},
          "execution_count": 73
        }
      ],
      "source": [
        "nest[3][2]"
      ]
    },
    {
      "cell_type": "code",
      "execution_count": null,
      "metadata": {
        "colab": {
          "base_uri": "https://localhost:8080/"
        },
        "id": "XV6E1rzvYrCA",
        "outputId": "77a6257e-cc2f-41a9-eb6b-c91ad5740649"
      },
      "outputs": [
        {
          "output_type": "execute_result",
          "data": {
            "text/plain": [
              "[1, 2, 3, 7, 8, 9]"
            ]
          },
          "metadata": {},
          "execution_count": 74
        }
      ],
      "source": [
        "l1= [1,2,3]\n",
        "l2=[7,8,9]\n",
        "l3 = l1 + l2\n",
        "l3"
      ]
    },
    {
      "cell_type": "code",
      "execution_count": null,
      "metadata": {
        "colab": {
          "base_uri": "https://localhost:8080/"
        },
        "id": "MRf_ihrnYrCA",
        "outputId": "f08a25f2-83e2-4ed3-a236-fd071ee5262b"
      },
      "outputs": [
        {
          "output_type": "execute_result",
          "data": {
            "text/plain": [
              "6"
            ]
          },
          "metadata": {},
          "execution_count": 75
        }
      ],
      "source": [
        "len(l3)"
      ]
    },
    {
      "cell_type": "code",
      "execution_count": null,
      "metadata": {
        "id": "X12NpFufYrCB"
      },
      "outputs": [],
      "source": [
        "my_list = ['a','b','c']"
      ]
    },
    {
      "cell_type": "code",
      "execution_count": null,
      "metadata": {
        "id": "35Ui-aTWYrCB"
      },
      "outputs": [],
      "source": [
        "## Apend -> The append method is used to add an item to the end of a list.\n",
        "my_list.append('d')          #append('value')"
      ]
    },
    {
      "cell_type": "code",
      "execution_count": null,
      "metadata": {
        "colab": {
          "base_uri": "https://localhost:8080/"
        },
        "id": "-UzddlKkYrCB",
        "outputId": "a03ba778-306c-4440-af10-0819dfab09d2"
      },
      "outputs": [
        {
          "output_type": "execute_result",
          "data": {
            "text/plain": [
              "['a', 'b', 'c', 'd']"
            ]
          },
          "metadata": {},
          "execution_count": 78
        }
      ],
      "source": [
        "my_list"
      ]
    },
    {
      "cell_type": "code",
      "execution_count": null,
      "metadata": {
        "id": "b1_xJWIVYrCC"
      },
      "outputs": [],
      "source": [
        "## insert -> The insert method allows you to add an item at a specific position\n",
        "my_list.insert(2,50)         # insert(index,value)"
      ]
    },
    {
      "cell_type": "code",
      "execution_count": null,
      "metadata": {
        "colab": {
          "base_uri": "https://localhost:8080/"
        },
        "id": "ZPmPUGtWYrCC",
        "outputId": "fdcf0995-da9f-49d1-cf86-b0f6a2571552"
      },
      "outputs": [
        {
          "output_type": "execute_result",
          "data": {
            "text/plain": [
              "['a', 'b', 50, 'c', 'd']"
            ]
          },
          "metadata": {},
          "execution_count": 80
        }
      ],
      "source": [
        "my_list"
      ]
    },
    {
      "cell_type": "code",
      "execution_count": null,
      "metadata": {
        "colab": {
          "base_uri": "https://localhost:8080/"
        },
        "id": "GGZwhbkIYrCC",
        "outputId": "2be7d58b-887a-41b5-b0d4-08c3c4349d3c"
      },
      "outputs": [
        {
          "output_type": "execute_result",
          "data": {
            "text/plain": [
              "['a', 'b', 50, 'c', 'd', 6, 7, 8]"
            ]
          },
          "metadata": {},
          "execution_count": 81
        }
      ],
      "source": [
        "## Extend -> The extend method is used to append elements from an iterable\n",
        "my_list.extend([6,7,8])\n",
        "my_list"
      ]
    },
    {
      "cell_type": "code",
      "execution_count": null,
      "metadata": {
        "colab": {
          "base_uri": "https://localhost:8080/"
        },
        "id": "IIEcIQ7yYrCC",
        "outputId": "4d65d4a1-3792-447a-bac1-aeb0adaa1594"
      },
      "outputs": [
        {
          "output_type": "execute_result",
          "data": {
            "text/plain": [
              "['a', 'b', 50, 'c', 'd', 6, 7, 8]"
            ]
          },
          "metadata": {},
          "execution_count": 82
        }
      ],
      "source": [
        "my_list"
      ]
    },
    {
      "cell_type": "code",
      "execution_count": null,
      "metadata": {
        "colab": {
          "base_uri": "https://localhost:8080/"
        },
        "id": "dO-IupBxYrCF",
        "outputId": "0d693110-d0db-4382-dbc7-e902a827bfa4"
      },
      "outputs": [
        {
          "output_type": "execute_result",
          "data": {
            "text/plain": [
              "1"
            ]
          },
          "metadata": {},
          "execution_count": 83
        }
      ],
      "source": [
        "my_list.index('b')"
      ]
    },
    {
      "cell_type": "code",
      "execution_count": null,
      "metadata": {
        "colab": {
          "base_uri": "https://localhost:8080/"
        },
        "id": "Au51GPeKYrCF",
        "outputId": "968c82a4-287b-498e-bd17-9e36971f6868"
      },
      "outputs": [
        {
          "output_type": "stream",
          "name": "stdout",
          "text": [
            "3\n"
          ]
        }
      ],
      "source": [
        "lst=[1,2,3,4,4,90,1,4]\n",
        "print(lst.count(4))"
      ]
    },
    {
      "cell_type": "code",
      "execution_count": null,
      "metadata": {
        "colab": {
          "base_uri": "https://localhost:8080/"
        },
        "id": "KogCnETzYrCF",
        "outputId": "de08572c-5a6a-4336-c112-575750d57118"
      },
      "outputs": [
        {
          "output_type": "stream",
          "name": "stdout",
          "text": [
            "[-20, 0, 3, 10]\n"
          ]
        }
      ],
      "source": [
        "lst=[3,10,0,-20]\n",
        "# sort list\n",
        "lst.sort()\n",
        "print(lst)"
      ]
    },
    {
      "cell_type": "markdown",
      "source": [
        "# **Editing items in a List**"
      ],
      "metadata": {
        "id": "bAXT0MvbXvYj"
      }
    },
    {
      "cell_type": "code",
      "source": [
        "l = [1,2,3,4,5,6]\n",
        "# editing with indexing\n",
        "l[-1] = 300\n",
        "print(l)\n",
        "# editong with slicing\n",
        "l[1:4] = [200,300,400]\n",
        "print(l)"
      ],
      "metadata": {
        "colab": {
          "base_uri": "https://localhost:8080/"
        },
        "id": "9yCMXJp9X08P",
        "outputId": "d9cf1b0f-37f5-44e6-cd55-a21bfcca4945"
      },
      "execution_count": null,
      "outputs": [
        {
          "output_type": "stream",
          "name": "stdout",
          "text": [
            "[1, 2, 3, 4, 5, 300]\n",
            "[1, 200, 300, 400, 5, 300]\n"
          ]
        }
      ]
    },
    {
      "cell_type": "markdown",
      "source": [
        "## **Deleting items from a List**"
      ],
      "metadata": {
        "id": "W00i5WpWYHCG"
      }
    },
    {
      "cell_type": "code",
      "source": [
        "# del -> The del statement is used to remove an item from a list based on its index\n",
        "l = [1,2,3,4,5]\n",
        "#indexing\n",
        "del l[2]\n",
        "print(l)"
      ],
      "metadata": {
        "colab": {
          "base_uri": "https://localhost:8080/"
        },
        "id": "EBanT7RkYP7Q",
        "outputId": "d10ae894-cde3-45a8-f5b2-6a70c5b7177b"
      },
      "execution_count": 2,
      "outputs": [
        {
          "output_type": "stream",
          "name": "stdout",
          "text": [
            "[1, 2, 4, 5]\n"
          ]
        }
      ]
    },
    {
      "cell_type": "code",
      "source": [
        "# remove -> The remove method is used to remove the first occurrence of a specific\n",
        "l = [1,2,3]\n",
        "l.remove(2)\n",
        "l.remove(3)\n",
        "\n",
        "print(l)"
      ],
      "metadata": {
        "colab": {
          "base_uri": "https://localhost:8080/"
        },
        "id": "3LEqL82rYX4_",
        "outputId": "e6d4f6d3-1b7f-4494-8bcb-f705c1bbd7ce"
      },
      "execution_count": 1,
      "outputs": [
        {
          "output_type": "stream",
          "name": "stdout",
          "text": [
            "[1]\n"
          ]
        }
      ]
    },
    {
      "cell_type": "code",
      "source": [
        "# pop -> The pop method is used to remove and return an item from the list based on\n",
        "# If you don't provide an index, it will remove and return the last item by default\n",
        "L = [1,2,3,4,5]\n",
        "L.pop()\n",
        "print(L)"
      ],
      "metadata": {
        "colab": {
          "base_uri": "https://localhost:8080/"
        },
        "id": "DHHOYJjvYb2D",
        "outputId": "c6f67eaa-ddaa-4d38-d522-8f28365322c7"
      },
      "execution_count": null,
      "outputs": [
        {
          "output_type": "stream",
          "name": "stdout",
          "text": [
            "[1, 2, 3, 4]\n"
          ]
        }
      ]
    },
    {
      "cell_type": "code",
      "source": [
        "# clear -> The clear method is used to remove all items from the list, effectively\n",
        "L = [1,2,3,4,5]\n",
        "L.clear()\n",
        "print(L)"
      ],
      "metadata": {
        "colab": {
          "base_uri": "https://localhost:8080/"
        },
        "id": "arYhRjHCYtFu",
        "outputId": "6090dc2c-c587-4e7d-d5bd-8de2e5d2e90a"
      },
      "execution_count": null,
      "outputs": [
        {
          "output_type": "stream",
          "name": "stdout",
          "text": [
            "[]\n"
          ]
        }
      ]
    },
    {
      "cell_type": "code",
      "execution_count": null,
      "metadata": {
        "colab": {
          "base_uri": "https://localhost:8080/"
        },
        "id": "iNi6UCLgYrCG",
        "outputId": "2e2a2186-db9d-4472-c9fb-2610be9dcefc"
      },
      "outputs": [
        {
          "output_type": "stream",
          "name": "stdout",
          "text": [
            "[5, 4, 3, 2, 1]\n"
          ]
        }
      ],
      "source": [
        "my_list = [1, 2, 3, 4, 5]\n",
        "# Reverse Using Slicing\n",
        "reversed_lst=my_list[::-1]\n",
        "print(reversed_lst)"
      ]
    },
    {
      "cell_type": "code",
      "execution_count": null,
      "metadata": {
        "colab": {
          "base_uri": "https://localhost:8080/"
        },
        "id": "Soy77YLZYrCG",
        "outputId": "f9bcd593-e2a7-4e5f-f6a7-5f42717739c2"
      },
      "outputs": [
        {
          "output_type": "stream",
          "name": "stdout",
          "text": [
            "[5, 4, 3, 2, 1]\n"
          ]
        }
      ],
      "source": [
        "# Reversing the list in place\n",
        "my_list.reverse()\n",
        "print(my_list)"
      ]
    },
    {
      "cell_type": "markdown",
      "metadata": {
        "id": "5RaH93nzYrCH"
      },
      "source": [
        "### Exercise\n",
        "\n",
        "create empty list and add integer number and string and list of number and pop first and last element"
      ]
    },
    {
      "cell_type": "code",
      "execution_count": null,
      "metadata": {
        "id": "GHmkA_DaYrCH",
        "outputId": "84377f3d-419c-4536-bde3-e87fc6acacf3"
      },
      "outputs": [
        {
          "name": "stdout",
          "output_type": "stream",
          "text": [
            "List before popping: [25, 'Hello', [1, 2, 3]]\n",
            "Popped first element: 25\n",
            "Popped last element: [1, 2, 3]\n",
            "List after popping: ['Hello']\n"
          ]
        }
      ],
      "source": []
    },
    {
      "cell_type": "markdown",
      "metadata": {
        "id": "rubKdiFWYrCH"
      },
      "source": [
        "<details><summary>Click here for the solution</summary>\n",
        "\n",
        "```python\n",
        "\n",
        "# Create an empty list\n",
        "my_list = []\n",
        "\n",
        "# Add an integer number\n",
        "my_list.append(25)\n",
        "\n",
        "# Add a string\n",
        "my_list.append(\"Hello\")\n",
        "\n",
        "# Add a list of numbers\n",
        "my_list.append([1, 2, 3])\n",
        "\n",
        "# Print the list before popping\n",
        "print(\"List before popping:\", my_list)\n",
        "\n",
        "# Pop the first element (index 0)\n",
        "first_element = my_list.pop(0)\n",
        "print(\"Popped first element:\", first_element)\n",
        "\n",
        "# Pop the last element\n",
        "last_element = my_list.pop(-1)\n",
        "print(\"Popped last element:\", last_element)\n",
        "\n",
        "# Print the list after popping\n",
        "print(\"List after popping:\", my_list)\n",
        "\n",
        "```\n",
        "</details>\n",
        "\n",
        "```"
      ]
    },
    {
      "cell_type": "markdown",
      "metadata": {
        "id": "SW_6qGJnYrCH"
      },
      "source": [
        "### Dictionaries\n",
        "a dictionary is a built-in data type used to store a collection of key-value pairs.\n",
        "Each key in a dictionary maps to a specific value, creating a relationship between them.\n",
        "Dictionaries are also known as associative arrays or hash maps in other programming\n",
        "languages."
      ]
    },
    {
      "cell_type": "code",
      "source": [
        "# empty\n",
        "d = {}\n",
        "print(d)\n",
        "#1D\n",
        "d1 = {'name':'xyz', 'Age':23, 'gender':'male'}\n",
        "print(d1)\n",
        "# with mixed keys\n",
        "d2 = {(2,2,3):1,'hello':'world'}\n",
        "print(d2)\n",
        "# 2D dictionary\n",
        "s = {\n",
        "'name':'ramesh',\n",
        "'college':'bit',\n",
        "'sem':4,\n",
        "'subjects':{\n",
        "'dsa':50,\n",
        "'maths':67,\n",
        "'english':34\n",
        "}\n",
        "}\n",
        "print(s)\n",
        "\n",
        "#mutable items keys\n",
        "d6 = {'name':'xyz', (1,2,3):2}\n",
        "print(d6)"
      ],
      "metadata": {
        "colab": {
          "base_uri": "https://localhost:8080/"
        },
        "id": "y16EjLuoJW19",
        "outputId": "add0b54c-007d-430d-f49d-3946c8f1a16a"
      },
      "execution_count": 4,
      "outputs": [
        {
          "output_type": "stream",
          "name": "stdout",
          "text": [
            "{}\n",
            "{'name': 'xyz', 'Age': 23, 'gender': 'male'}\n",
            "{(2, 2, 3): 1, 'hello': 'world'}\n",
            "{'name': 'ramesh', 'college': 'bit', 'sem': 4, 'subjects': {'dsa': 50, 'maths': 67, 'english': 34}}\n",
            "{'name': 'xyz', (1, 2, 3): 2}\n"
          ]
        }
      ]
    },
    {
      "cell_type": "markdown",
      "source": [
        "# **Accessing Items**"
      ],
      "metadata": {
        "id": "88F2oAJ0JcFj"
      }
    },
    {
      "cell_type": "code",
      "source": [
        "my_dict = {'name': 'Jack', 'age': 26}\n",
        "my_dict['name'] # you have to write keys"
      ],
      "metadata": {
        "colab": {
          "base_uri": "https://localhost:8080/",
          "height": 35
        },
        "id": "D2HecdBgJgsx",
        "outputId": "9c3c7670-122e-4bd0-a681-42d713bc77bb"
      },
      "execution_count": null,
      "outputs": [
        {
          "output_type": "execute_result",
          "data": {
            "text/plain": [
              "'Jack'"
            ],
            "application/vnd.google.colaboratory.intrinsic+json": {
              "type": "string"
            }
          },
          "metadata": {},
          "execution_count": 93
        }
      ]
    },
    {
      "cell_type": "code",
      "source": [
        "print({'name':'Nitish','gender':'Male','weight':70})"
      ],
      "metadata": {
        "colab": {
          "base_uri": "https://localhost:8080/"
        },
        "id": "hHMC7NuIwNwD",
        "outputId": "ca805d9e-63aa-4de4-a919-1ecbb07a0d22"
      },
      "execution_count": null,
      "outputs": [
        {
          "output_type": "stream",
          "name": "stdout",
          "text": [
            "{'name': 'Nitish', 'gender': 'Male', 'weight': 70}\n"
          ]
        }
      ]
    },
    {
      "cell_type": "code",
      "execution_count": null,
      "metadata": {
        "colab": {
          "base_uri": "https://localhost:8080/"
        },
        "id": "fem2II0XYrCI",
        "outputId": "4e1753a8-8436-4cae-ea42-ebe9bb88dd90"
      },
      "outputs": [
        {
          "output_type": "execute_result",
          "data": {
            "text/plain": [
              "{4: 123}"
            ]
          },
          "metadata": {},
          "execution_count": 95
        }
      ],
      "source": [
        "# dict({key:value})\n",
        "z =dict({4:123} )\n",
        "z"
      ]
    },
    {
      "cell_type": "code",
      "execution_count": null,
      "metadata": {
        "colab": {
          "base_uri": "https://localhost:8080/"
        },
        "id": "SCW6SRGRYrCI",
        "outputId": "f2036ae6-aab9-4c64-effb-6ee2c030ff2a"
      },
      "outputs": [
        {
          "output_type": "execute_result",
          "data": {
            "text/plain": [
              "{4: 123}"
            ]
          },
          "metadata": {},
          "execution_count": 96
        }
      ],
      "source": [
        "{4:123}"
      ]
    },
    {
      "cell_type": "code",
      "execution_count": null,
      "metadata": {
        "colab": {
          "base_uri": "https://localhost:8080/"
        },
        "id": "K2TASMW6YrCI",
        "outputId": "ae0f70bb-7069-4f85-e47a-1bae45d207b0"
      },
      "outputs": [
        {
          "output_type": "execute_result",
          "data": {
            "text/plain": [
              "123"
            ]
          },
          "metadata": {},
          "execution_count": 97
        }
      ],
      "source": [
        "z[4]"
      ]
    },
    {
      "cell_type": "code",
      "execution_count": null,
      "metadata": {
        "id": "ls-DK7oFYrCJ"
      },
      "outputs": [],
      "source": [
        "d = {'key1':'item1','key2':'item2'}"
      ]
    },
    {
      "cell_type": "code",
      "execution_count": null,
      "metadata": {
        "colab": {
          "base_uri": "https://localhost:8080/"
        },
        "id": "q91Of7dMYrCJ",
        "outputId": "71f3fe3e-619c-49d3-f264-e21b9a8aeaaa"
      },
      "outputs": [
        {
          "output_type": "execute_result",
          "data": {
            "text/plain": [
              "{'key1': 'item1', 'key2': 'item2'}"
            ]
          },
          "metadata": {},
          "execution_count": 99
        }
      ],
      "source": [
        "d"
      ]
    },
    {
      "cell_type": "code",
      "execution_count": null,
      "metadata": {
        "colab": {
          "base_uri": "https://localhost:8080/"
        },
        "id": "qmushMJ4YrCK",
        "outputId": "169ce3d7-828f-46f2-954d-d6b9c223a899"
      },
      "outputs": [
        {
          "output_type": "execute_result",
          "data": {
            "text/plain": [
              "dict_values(['item1', 'item2'])"
            ]
          },
          "metadata": {},
          "execution_count": 100
        }
      ],
      "source": [
        "d.values()"
      ]
    },
    {
      "cell_type": "code",
      "execution_count": null,
      "metadata": {
        "colab": {
          "base_uri": "https://localhost:8080/"
        },
        "id": "cwzRVZsmYrCK",
        "outputId": "508ee8d8-ac97-44f4-b96b-8f1cbd13f474"
      },
      "outputs": [
        {
          "output_type": "execute_result",
          "data": {
            "text/plain": [
              "dict_items([('key1', 'item1'), ('key2', 'item2')])"
            ]
          },
          "metadata": {},
          "execution_count": 101
        }
      ],
      "source": [
        "d.items()"
      ]
    },
    {
      "cell_type": "code",
      "execution_count": null,
      "metadata": {
        "id": "qGR3A0eHYrCL"
      },
      "outputs": [],
      "source": [
        "d['key3']='items3'"
      ]
    },
    {
      "cell_type": "code",
      "execution_count": null,
      "metadata": {
        "colab": {
          "base_uri": "https://localhost:8080/"
        },
        "id": "6scZ9Rh0YrCL",
        "outputId": "089e2484-9e45-4096-fc95-2bb52844211d"
      },
      "outputs": [
        {
          "output_type": "execute_result",
          "data": {
            "text/plain": [
              "{'key1': 'item1', 'key2': 'item2', 'key3': 'items3'}"
            ]
          },
          "metadata": {},
          "execution_count": 103
        }
      ],
      "source": [
        "d"
      ]
    },
    {
      "cell_type": "code",
      "execution_count": null,
      "metadata": {
        "colab": {
          "base_uri": "https://localhost:8080/",
          "height": 35
        },
        "id": "l0k0zx3xYrCL",
        "outputId": "3d25cdab-e34a-44b8-d309-9f4a38ad17b6"
      },
      "outputs": [
        {
          "output_type": "execute_result",
          "data": {
            "text/plain": [
              "'item1'"
            ],
            "application/vnd.google.colaboratory.intrinsic+json": {
              "type": "string"
            }
          },
          "metadata": {},
          "execution_count": 104
        }
      ],
      "source": [
        "d.pop(\"key1\")"
      ]
    },
    {
      "cell_type": "code",
      "execution_count": null,
      "metadata": {
        "colab": {
          "base_uri": "https://localhost:8080/"
        },
        "id": "k877dKCYYrCL",
        "outputId": "72da1678-557f-4b2e-cb7b-0ecdbc51b950"
      },
      "outputs": [
        {
          "output_type": "execute_result",
          "data": {
            "text/plain": [
              "{'key2': 'item2', 'key3': 'items3'}"
            ]
          },
          "metadata": {},
          "execution_count": 105
        }
      ],
      "source": [
        "d"
      ]
    },
    {
      "cell_type": "code",
      "execution_count": null,
      "metadata": {
        "colab": {
          "base_uri": "https://localhost:8080/"
        },
        "id": "N7EvJgC3YrCM",
        "outputId": "bddfe8de-672a-4ced-a91f-491ae037438a"
      },
      "outputs": [
        {
          "output_type": "execute_result",
          "data": {
            "text/plain": [
              "('key3', 'items3')"
            ]
          },
          "metadata": {},
          "execution_count": 106
        }
      ],
      "source": [
        "d.popitem()  # it remove last item in the dictionary"
      ]
    },
    {
      "cell_type": "code",
      "execution_count": null,
      "metadata": {
        "colab": {
          "base_uri": "https://localhost:8080/"
        },
        "id": "fmA8xRTjYrCM",
        "outputId": "9c09e0dc-c008-4391-93ed-580e01a3e5c8"
      },
      "outputs": [
        {
          "output_type": "execute_result",
          "data": {
            "text/plain": [
              "{'key2': 'item2'}"
            ]
          },
          "metadata": {},
          "execution_count": 107
        }
      ],
      "source": [
        "d"
      ]
    },
    {
      "cell_type": "code",
      "execution_count": null,
      "metadata": {
        "id": "qZBYqZYzYrCN"
      },
      "outputs": [],
      "source": [
        "d.update({'key21':'vallue2','key7':'value7'})"
      ]
    },
    {
      "cell_type": "code",
      "execution_count": null,
      "metadata": {
        "id": "rmigjua4YrCN",
        "outputId": "53d38ba3-afc3-4f98-801e-d229241843ec",
        "colab": {
          "base_uri": "https://localhost:8080/"
        }
      },
      "outputs": [
        {
          "output_type": "execute_result",
          "data": {
            "text/plain": [
              "{'key2': 'item2', 'key21': 'vallue2', 'key7': 'value7'}"
            ]
          },
          "metadata": {},
          "execution_count": 109
        }
      ],
      "source": [
        "d"
      ]
    },
    {
      "cell_type": "code",
      "execution_count": null,
      "metadata": {
        "id": "VXxTKUzQYrCO"
      },
      "outputs": [],
      "source": [
        "d.get('key3')"
      ]
    },
    {
      "cell_type": "code",
      "source": [
        "#clear\n",
        "d.clear() # it clear dictionary\n",
        "print(d)"
      ],
      "metadata": {
        "colab": {
          "base_uri": "https://localhost:8080/"
        },
        "id": "JZAyQgzvKLbA",
        "outputId": "f2c335ad-0e8f-411d-94ad-6a8348674bee"
      },
      "execution_count": null,
      "outputs": [
        {
          "output_type": "stream",
          "name": "stdout",
          "text": [
            "{}\n"
          ]
        }
      ]
    },
    {
      "cell_type": "markdown",
      "source": [
        "# **Dictionary Functions**"
      ],
      "metadata": {
        "id": "CjR3VflHKUxl"
      }
    },
    {
      "cell_type": "code",
      "source": [
        "print(s)"
      ],
      "metadata": {
        "colab": {
          "base_uri": "https://localhost:8080/"
        },
        "id": "AHRCIEMMKr-L",
        "outputId": "7058fa06-335b-43d1-9c23-1952f29f9059"
      },
      "execution_count": null,
      "outputs": [
        {
          "output_type": "stream",
          "name": "stdout",
          "text": [
            "{'name': 'ramesh', 'college': 'bit', 'sem': 4, 'subjects': {'dsa': 50, 'maths': 67, 'english': 34}}\n"
          ]
        }
      ]
    },
    {
      "cell_type": "code",
      "source": [
        "# len/sorted\n",
        "print(len(s))\n",
        "sorted(s)"
      ],
      "metadata": {
        "colab": {
          "base_uri": "https://localhost:8080/"
        },
        "id": "hZpEy7HmKvGt",
        "outputId": "c740877e-6b09-4965-cd96-98e4c45c2a3c"
      },
      "execution_count": null,
      "outputs": [
        {
          "output_type": "stream",
          "name": "stdout",
          "text": [
            "4\n"
          ]
        },
        {
          "output_type": "execute_result",
          "data": {
            "text/plain": [
              "['college', 'name', 'sem', 'subjects']"
            ]
          },
          "metadata": {},
          "execution_count": 113
        }
      ]
    },
    {
      "cell_type": "code",
      "source": [
        "# items/keys/values\n",
        "print(s.items())\n",
        "print(s.keys())"
      ],
      "metadata": {
        "colab": {
          "base_uri": "https://localhost:8080/"
        },
        "id": "aq4EnNulK3pG",
        "outputId": "267eb923-0f36-48d5-c82f-5a68f953c9cb"
      },
      "execution_count": null,
      "outputs": [
        {
          "output_type": "stream",
          "name": "stdout",
          "text": [
            "dict_items([('name', 'ramesh'), ('college', 'bit'), ('sem', 4), ('subjects', {'dsa': 50, 'maths': 67, 'english': 34})])\n",
            "dict_keys(['name', 'college', 'sem', 'subjects'])\n"
          ]
        }
      ]
    },
    {
      "cell_type": "code",
      "source": [
        "print(s.values())"
      ],
      "metadata": {
        "colab": {
          "base_uri": "https://localhost:8080/"
        },
        "id": "EqvutH0oK-Rv",
        "outputId": "34571c5f-ed06-4b15-d0ea-7ff6a304e7cd"
      },
      "execution_count": null,
      "outputs": [
        {
          "output_type": "stream",
          "name": "stdout",
          "text": [
            "dict_values(['ramesh', 'bit', 4, {'dsa': 50, 'maths': 67, 'english': 34}])\n"
          ]
        }
      ]
    },
    {
      "cell_type": "markdown",
      "source": [
        "# **How to know which type of Datatype is?**"
      ],
      "metadata": {
        "id": "gHeq8bP8wbct"
      }
    },
    {
      "cell_type": "code",
      "source": [
        "type([1,2,3,4])"
      ],
      "metadata": {
        "colab": {
          "base_uri": "https://localhost:8080/"
        },
        "id": "4Kvzt3LbwYv0",
        "outputId": "475869f3-c82b-4b1b-dfc3-67532c4ff91e"
      },
      "execution_count": null,
      "outputs": [
        {
          "output_type": "execute_result",
          "data": {
            "text/plain": [
              "list"
            ]
          },
          "metadata": {},
          "execution_count": 116
        }
      ]
    },
    {
      "cell_type": "code",
      "source": [
        "type({'age':20})"
      ],
      "metadata": {
        "colab": {
          "base_uri": "https://localhost:8080/"
        },
        "id": "U7cAmjS-wk0T",
        "outputId": "6aa856ab-2447-4fb8-9d80-ae903424e093"
      },
      "execution_count": null,
      "outputs": [
        {
          "output_type": "execute_result",
          "data": {
            "text/plain": [
              "dict"
            ]
          },
          "metadata": {},
          "execution_count": 117
        }
      ]
    },
    {
      "cell_type": "markdown",
      "metadata": {
        "id": "aqQfyeDUYrCO"
      },
      "source": [
        "### Exercise\n",
        "\n",
        "Create a dictionary with at least four key-value pairs.\n",
        "\n",
        "update Value in dictionary\n",
        "\n",
        "Remove an item using the pop() method.\n",
        "\n",
        "Remove the last item using the popitem() method."
      ]
    },
    {
      "cell_type": "code",
      "execution_count": null,
      "metadata": {
        "id": "KqUvDX3pYrCO",
        "outputId": "88449760-c9ef-45da-d70d-3ebe744b3bfc"
      },
      "outputs": [
        {
          "name": "stdout",
          "output_type": "stream",
          "text": [
            "Original dictionary: {'name': 'Hossam', 'age': 25, 'GPA': 3.75, 'location': 'Tanta', 'major': 'Artificial Intelligence'}\n",
            "Dictionary after updating 'GPA': {'name': 'Hossam', 'age': 25, 'GPA': 3.9, 'location': 'Tanta', 'major': 'Artificial Intelligence'}\n",
            "Removed 'GPA': 3.9\n",
            "Dictionary after removing 'GPA': {'name': 'Hossam', 'age': 25, 'location': 'Tanta', 'major': 'Artificial Intelligence'}\n",
            "Removed last item: ('major', 'Artificial Intelligence')\n",
            "Dictionary after removing the last item: {'name': 'Hossam', 'age': 25, 'location': 'Tanta'}\n"
          ]
        }
      ],
      "source": []
    },
    {
      "cell_type": "markdown",
      "metadata": {
        "id": "B1aRygfmYrCO"
      },
      "source": [
        "<details><summary>Click here for the solution</summary>\n",
        "\n",
        "```python\n",
        "\n",
        "# 1. Create a dictionary with at least four key-value pairs\n",
        "student = {\n",
        "    \"name\": \"shereen\",\n",
        "    \"age\": 22,\n",
        "    \"GPA\": 3.3,\n",
        "    \"location\": \"Tanta\"\n",
        "}\n",
        "\n",
        "student['major'] = \"Artificial Intelligence\"\n",
        "# student.update({'major':\"Artificial Intelligence\"})\n",
        "print(\"Original dictionary:\", student)\n",
        "\n",
        "# 2. Update the value of an existing key\n",
        "student[\"GPA\"] = 3.9  # student.update({'GPA':10})\n",
        "\n",
        "print(\"Dictionary after updating 'GPA':\", student)\n",
        "\n",
        "# 3. Remove an item using the `pop()` method\n",
        "removed_item = student.pop(\"GPA\")\n",
        "print(\"Removed 'GPA':\", removed_item)  \n",
        "print(\"Dictionary after removing 'GPA':\", student)\n",
        "\n",
        "# 4. Remove the last item using the `popitem()` method\n",
        "last_item = student.popitem()\n",
        "print(\"Removed last item:\", last_item)\n",
        "print(\"Dictionary after removing the last item:\", student)\n",
        "\n",
        "\n",
        "```\n",
        "</details>\n",
        "\n",
        "```"
      ]
    },
    {
      "cell_type": "markdown",
      "metadata": {
        "id": "yJzNuGEYYrCP"
      },
      "source": [
        "### Tuples\n",
        "# **tuple is another data type used to store a collection of values, similar to a list.**\n",
        "However, there are some key differences between tuples and lists:\n",
        "Immutable: The most significant difference is that tuples are immutable, meaning once\n",
        "you create a tuple, you cannot change its contents (add, remove, or modify elements).\n",
        "Lists, on the other hand, are mutable, and you can modify them after creation.\n",
        "Syntax: Tuples are created by enclosing a comma-separated sequence of values within\n",
        "parentheses (). Lists are created with square brackets []. For example:\n",
        "Performance: Due to their immutability, tuples can be more efficient in terms of\n",
        "memory and performance for certain use cases compared to lists.\n",
        "Tuples are often used when you have a collection of values that should not be changed\n",
        "during the course of your program."
      ]
    },
    {
      "cell_type": "code",
      "source": [
        "# How to create empty tuple\n",
        "t1 =()\n",
        "print(t1)"
      ],
      "metadata": {
        "colab": {
          "base_uri": "https://localhost:8080/"
        },
        "id": "GRrLcdGUlq-D",
        "outputId": "373dbb36-0366-4bd7-e583-2a6bdea079ac"
      },
      "execution_count": null,
      "outputs": [
        {
          "output_type": "stream",
          "name": "stdout",
          "text": [
            "()\n"
          ]
        }
      ]
    },
    {
      "cell_type": "code",
      "execution_count": 5,
      "metadata": {
        "id": "PBAaDgIzYrCP"
      },
      "outputs": [],
      "source": [
        "t = tuple([1,2,3,4,5])"
      ]
    },
    {
      "cell_type": "code",
      "execution_count": 6,
      "metadata": {
        "colab": {
          "base_uri": "https://localhost:8080/"
        },
        "id": "RydtwGl7YrCP",
        "outputId": "d7bc802f-1f51-4787-e268-bd9b78b02346"
      },
      "outputs": [
        {
          "output_type": "execute_result",
          "data": {
            "text/plain": [
              "(1, 2, 3, 4, 5)"
            ]
          },
          "metadata": {},
          "execution_count": 6
        }
      ],
      "source": [
        "t"
      ]
    },
    {
      "cell_type": "code",
      "execution_count": 7,
      "metadata": {
        "colab": {
          "base_uri": "https://localhost:8080/"
        },
        "id": "4nplaBWaYrCQ",
        "outputId": "8f904089-702e-4055-b567-7d73d9476dfe"
      },
      "outputs": [
        {
          "output_type": "execute_result",
          "data": {
            "text/plain": [
              "tuple"
            ]
          },
          "metadata": {},
          "execution_count": 7
        }
      ],
      "source": [
        "type(t)"
      ]
    },
    {
      "cell_type": "code",
      "execution_count": 8,
      "metadata": {
        "id": "It-vTN1RYrCQ"
      },
      "outputs": [],
      "source": [
        "t = (1,2,3)"
      ]
    },
    {
      "cell_type": "code",
      "execution_count": 9,
      "metadata": {
        "colab": {
          "base_uri": "https://localhost:8080/"
        },
        "id": "nzUC0g9rYrCR",
        "outputId": "8e9724c0-739c-402e-f3b0-373c470a111b"
      },
      "outputs": [
        {
          "output_type": "execute_result",
          "data": {
            "text/plain": [
              "tuple"
            ]
          },
          "metadata": {},
          "execution_count": 9
        }
      ],
      "source": [
        "t,\n",
        "type(t)"
      ]
    },
    {
      "cell_type": "code",
      "execution_count": null,
      "metadata": {
        "colab": {
          "base_uri": "https://localhost:8080/"
        },
        "id": "DCubSUVrYrCR",
        "outputId": "eb7cae80-d287-4235-c3a8-962e55434c47"
      },
      "outputs": [
        {
          "output_type": "execute_result",
          "data": {
            "text/plain": [
              "1"
            ]
          },
          "metadata": {},
          "execution_count": 127
        }
      ],
      "source": [
        "t[0]"
      ]
    },
    {
      "cell_type": "markdown",
      "source": [
        "## Editing items in tuple/Deleting in tuple\n",
        "Tuple are immutable like string it cannot change or Delete"
      ],
      "metadata": {
        "id": "iAADthmjmYI5"
      }
    },
    {
      "cell_type": "code",
      "execution_count": null,
      "metadata": {
        "colab": {
          "base_uri": "https://localhost:8080/",
          "height": 144
        },
        "id": "Fin9JoBBYrCR",
        "outputId": "1e65118f-e7e5-459f-8ceb-90194599ce50"
      },
      "outputs": [
        {
          "output_type": "error",
          "ename": "TypeError",
          "evalue": "'tuple' object does not support item assignment",
          "traceback": [
            "\u001b[0;31m---------------------------------------------------------------------------\u001b[0m",
            "\u001b[0;31mTypeError\u001b[0m                                 Traceback (most recent call last)",
            "\u001b[0;32m<ipython-input-128-93bfe9be1549>\u001b[0m in \u001b[0;36m<cell line: 0>\u001b[0;34m()\u001b[0m\n\u001b[0;32m----> 1\u001b[0;31m \u001b[0mt\u001b[0m\u001b[0;34m[\u001b[0m\u001b[0;36m0\u001b[0m\u001b[0;34m]\u001b[0m \u001b[0;34m=\u001b[0m \u001b[0;34m'NEW'\u001b[0m\u001b[0;34m\u001b[0m\u001b[0;34m\u001b[0m\u001b[0m\n\u001b[0m",
            "\u001b[0;31mTypeError\u001b[0m: 'tuple' object does not support item assignment"
          ]
        }
      ],
      "source": [
        "t[0] = 'NEW'"
      ]
    },
    {
      "cell_type": "code",
      "execution_count": null,
      "metadata": {
        "colab": {
          "base_uri": "https://localhost:8080/"
        },
        "id": "eWFUnYEHYrCS",
        "outputId": "166133e2-48fe-4556-db27-0ce2776c5571"
      },
      "outputs": [
        {
          "output_type": "execute_result",
          "data": {
            "text/plain": [
              "1"
            ]
          },
          "metadata": {},
          "execution_count": 129
        }
      ],
      "source": [
        "t.count(5)"
      ]
    },
    {
      "cell_type": "code",
      "execution_count": null,
      "metadata": {
        "colab": {
          "base_uri": "https://localhost:8080/"
        },
        "id": "OhJZAPGmYrCS",
        "outputId": "f3badea0-34dc-416e-c622-18fe9985637e"
      },
      "outputs": [
        {
          "output_type": "execute_result",
          "data": {
            "text/plain": [
              "0"
            ]
          },
          "metadata": {},
          "execution_count": 130
        }
      ],
      "source": [
        "t.index(1)"
      ]
    },
    {
      "cell_type": "code",
      "execution_count": null,
      "metadata": {
        "colab": {
          "base_uri": "https://localhost:8080/"
        },
        "id": "fyWAXOEMYrCS",
        "outputId": "8938c35f-8740-43bf-a70a-875e2fc12fe4"
      },
      "outputs": [
        {
          "output_type": "execute_result",
          "data": {
            "text/plain": [
              "(1, 2, 3, 3, 4, 5)"
            ]
          },
          "metadata": {},
          "execution_count": 131
        }
      ],
      "source": [
        "t1=(1,2,3)\n",
        "t2=(3,4,5)\n",
        "\n",
        "t1+t2"
      ]
    },
    {
      "cell_type": "code",
      "source": [
        "t3 = (1,2,3,4,5)\n",
        "print(t3)\n",
        "# extract 4 from the tuple\n",
        "print(t3[3])\n",
        "# extract 3,4,5\n",
        "print(t3[2:])"
      ],
      "metadata": {
        "colab": {
          "base_uri": "https://localhost:8080/"
        },
        "id": "UV-qT7-JmAc7",
        "outputId": "8730b184-7e02-4cce-834d-dcba8ef4c205"
      },
      "execution_count": null,
      "outputs": [
        {
          "output_type": "stream",
          "name": "stdout",
          "text": [
            "(1, 2, 3, 4, 5)\n",
            "4\n",
            "(3, 4, 5)\n"
          ]
        }
      ]
    },
    {
      "cell_type": "markdown",
      "source": [
        "# **Operation on Tuples**"
      ],
      "metadata": {
        "id": "21cJvie2mpSq"
      }
    },
    {
      "cell_type": "code",
      "source": [
        "# + and *\n",
        "t1 = (1,2,3,4)\n",
        "t2 = (5,6,7,8)\n",
        "print(t1 + t2)\n",
        "# membership    #True\n",
        "print(1 in t1)\n",
        "# iteration/loops\n",
        "for i in t3:\n",
        " print(i)"
      ],
      "metadata": {
        "colab": {
          "base_uri": "https://localhost:8080/"
        },
        "id": "qQ_qaDOmmxpG",
        "outputId": "dab73899-45cd-4f94-e5ba-98d0d182ad6b"
      },
      "execution_count": null,
      "outputs": [
        {
          "output_type": "stream",
          "name": "stdout",
          "text": [
            "(1, 2, 3, 4, 5, 6, 7, 8)\n",
            "True\n",
            "1\n",
            "2\n",
            "3\n",
            "4\n",
            "5\n"
          ]
        }
      ]
    },
    {
      "cell_type": "markdown",
      "source": [
        "# **Tuple Functions**"
      ],
      "metadata": {
        "id": "5uJVxYy5nCyL"
      }
    },
    {
      "cell_type": "code",
      "source": [
        "# len/sum/min/max/sorted\n",
        "t = (1,2,3,4,5)\n",
        "print(len(t))\n",
        "print(sum(t))\n",
        "print(min(t))\n",
        "print(max(t))\n",
        "print(sorted(t))"
      ],
      "metadata": {
        "colab": {
          "base_uri": "https://localhost:8080/"
        },
        "id": "q1OLXjAknH5r",
        "outputId": "82437303-0221-4613-9b5e-63ada4e08cf3"
      },
      "execution_count": null,
      "outputs": [
        {
          "output_type": "stream",
          "name": "stdout",
          "text": [
            "5\n",
            "15\n",
            "1\n",
            "5\n",
            "[1, 2, 3, 4, 5]\n"
          ]
        }
      ]
    },
    {
      "cell_type": "code",
      "source": [
        "# count\n",
        "t = (1,2,3,4,5)\n",
        "t.count(3)"
      ],
      "metadata": {
        "colab": {
          "base_uri": "https://localhost:8080/"
        },
        "id": "yMMuiSk5nUfK",
        "outputId": "3769cd32-ef2f-4219-a81f-52b96c0e01e4"
      },
      "execution_count": null,
      "outputs": [
        {
          "output_type": "execute_result",
          "data": {
            "text/plain": [
              "1"
            ]
          },
          "metadata": {},
          "execution_count": 136
        }
      ]
    },
    {
      "cell_type": "code",
      "source": [
        "# index\n",
        "t = (4,64567,3454,11,33,55)\n",
        "t.index(64567)"
      ],
      "metadata": {
        "colab": {
          "base_uri": "https://localhost:8080/"
        },
        "id": "cZeyB3wSnZYX",
        "outputId": "4d4bd257-eb8b-4b92-c2d4-bf2bcdf1220e"
      },
      "execution_count": null,
      "outputs": [
        {
          "output_type": "execute_result",
          "data": {
            "text/plain": [
              "1"
            ]
          },
          "metadata": {},
          "execution_count": 137
        }
      ]
    },
    {
      "cell_type": "code",
      "source": [
        "# zipping tuples\n",
        "a = (1,2,3,4)\n",
        "b = (5,6,7,8)\n",
        "tuple(zip(a,b))"
      ],
      "metadata": {
        "colab": {
          "base_uri": "https://localhost:8080/"
        },
        "id": "5UvvrwK4nqf3",
        "outputId": "14c2f9b8-a6a1-47ac-c828-a95b9179865d"
      },
      "execution_count": null,
      "outputs": [
        {
          "output_type": "execute_result",
          "data": {
            "text/plain": [
              "((1, 5), (2, 6), (3, 7), (4, 8))"
            ]
          },
          "metadata": {},
          "execution_count": 138
        }
      ]
    },
    {
      "cell_type": "markdown",
      "metadata": {
        "id": "Q6x9EotzYrCT"
      },
      "source": [
        "### Exercise\n"
      ]
    },
    {
      "cell_type": "code",
      "source": [],
      "metadata": {
        "id": "7LjDkxwgmdEA"
      },
      "execution_count": null,
      "outputs": []
    },
    {
      "cell_type": "code",
      "execution_count": null,
      "metadata": {
        "id": "2S81JskGYrCT"
      },
      "outputs": [],
      "source": []
    },
    {
      "cell_type": "markdown",
      "metadata": {
        "id": "HhOQMufjYrCT"
      },
      "source": [
        "<details><summary>Click here for the solution</summary>\n",
        "\n",
        "```python\n",
        "\n",
        "t = tuple([1,2,3])\n",
        "t = list(t)\n",
        "t.append(0)\n",
        "t = tuple(t)\n",
        "print(t,type(t))\n",
        "\n",
        "```\n",
        "</details>\n",
        "\n",
        "```"
      ]
    },
    {
      "cell_type": "markdown",
      "metadata": {
        "id": "Y33TftOfYrCT"
      },
      "source": [
        "Create a tuple named student_info that contains the following information: a student's name (as a string), their age (as an integer), and their GPA (as a float).\n",
        "\n",
        "Create another tuple more_info that contains the student's major (as a string) and their graduation year (as an integer). Concatenate student_info and more_info into a new tuple named full_info.\n",
        "\n",
        "add two tuple then count number of age"
      ]
    },
    {
      "cell_type": "code",
      "source": [],
      "metadata": {
        "id": "SkfdPAAvbh1i",
        "colab": {
          "base_uri": "https://localhost:8080/"
        },
        "outputId": "a9fc0a01-a3f5-4ec0-f3c7-7afe78860273"
      },
      "execution_count": 10,
      "outputs": [
        {
          "output_type": "stream",
          "name": "stdout",
          "text": [
            "22\n",
            "shereen\n",
            "22\n",
            "3.3\n",
            "('shereen', 22, 3.3, 'Artificial Intelligence', 2024)\n",
            "0\n"
          ]
        }
      ]
    },
    {
      "cell_type": "markdown",
      "metadata": {
        "id": "AzOqTO_2YrCU"
      },
      "source": [
        "<details><summary>Click here for the solution</summary>\n",
        "\n",
        "```python\n",
        "\n",
        "student_info = (\"shereen\", 22, 3.3)\n",
        "print(student_info[1])  # Output: 21\n",
        "\n",
        "name, age, gpa = student_info\n",
        "print(name)  # Output: Hossam\n",
        "print(age)   # Output: 21\n",
        "print(gpa)   # Output: 3.9\n",
        "\n",
        "more_info = (\"Artificial Intelligence\", 2024)\n",
        "full_info = student_info + more_info\n",
        "print(full_info)  # Output: ('Hossam', 21, 3.9, 'Artificial Intelligence', 2024)\n",
        "\n",
        "print(full_info.count(21))  # Output: 0\n",
        "\n",
        "# Attempting to modify the tuple\n",
        "# student_info[0] = \"Bob\"  # This will raise a TypeError\n",
        "```\n",
        "</details>\n",
        "\n",
        "```"
      ]
    },
    {
      "cell_type": "markdown",
      "metadata": {
        "id": "1ZKIXBVUYrCU"
      },
      "source": [
        "### Sets\n",
        "a set is a built-in data type used to store an unordered collection of unique\n",
        "elements. Sets are defined by enclosing a comma-separated sequence of values within curly\n",
        "braces {} or by using the built-in set() constructor. Sets automatically eliminate duplicate\n",
        "values, ensuring that each element is unique within the set."
      ]
    },
    {
      "cell_type": "code",
      "source": [
        "set={1,2,\"shereen\", \"s\",1,\"shereen\"}\n",
        "print(set)\n",
        "print(type(set))"
      ],
      "metadata": {
        "colab": {
          "base_uri": "https://localhost:8080/"
        },
        "id": "OoX9jZzqoAYe",
        "outputId": "6107a2e3-51a0-4a8f-cc1d-53f148cdfd48"
      },
      "execution_count": 11,
      "outputs": [
        {
          "output_type": "stream",
          "name": "stdout",
          "text": [
            "{'s', 1, 2, 'shereen'}\n",
            "<class 'set'>\n"
          ]
        }
      ]
    },
    {
      "cell_type": "code",
      "source": [
        "# empty set\n",
        "s = set()\n",
        "print(s)\n",
        "print(type(s))\n",
        "# 1D and 2D\n",
        "s1 = {1,2,3}\n",
        "print(s1)\n",
        "s2 = {1,2,3,(4,5)}\n",
        "print(s2)\n",
        "# Homo and hetro\n",
        "s3 = {1,'hello',4.5,(1,2,3)}\n",
        "print(s3)\n",
        "# using type conversion\n",
        "s4 = set([1,2,3])\n",
        "print(s4)\n",
        "#duplicated not allowed\n",
        "s5 = {1,1,2,2,3}\n",
        "print(s5)"
      ],
      "metadata": {
        "colab": {
          "base_uri": "https://localhost:8080/"
        },
        "id": "djqtLdqnG3MP",
        "outputId": "8df29adc-6ab6-4dcd-e8a0-ced536e3aba1"
      },
      "execution_count": null,
      "outputs": [
        {
          "output_type": "stream",
          "name": "stdout",
          "text": [
            "set()\n",
            "<class 'set'>\n",
            "{1, 2, 3}\n",
            "{3, 1, (4, 5), 2}\n",
            "{1, (1, 2, 3), 4.5, 'hello'}\n",
            "{1, 2, 3}\n",
            "{1, 2, 3}\n"
          ]
        }
      ]
    },
    {
      "cell_type": "code",
      "source": [
        "#add\n",
        "s = {1,2,3,4,5}\n",
        "s.add(6)\n",
        "print(s)"
      ],
      "metadata": {
        "colab": {
          "base_uri": "https://localhost:8080/"
        },
        "id": "SQ3fbVO_HE44",
        "outputId": "003c806f-805e-4fd4-ef73-bd8e298eeedb"
      },
      "execution_count": null,
      "outputs": [
        {
          "output_type": "stream",
          "name": "stdout",
          "text": [
            "{1, 2, 3, 4, 5, 6}\n"
          ]
        }
      ]
    },
    {
      "cell_type": "code",
      "source": [
        "#update\n",
        "s.update([5,6,7])\n",
        "print(s)"
      ],
      "metadata": {
        "colab": {
          "base_uri": "https://localhost:8080/"
        },
        "id": "wAHvUamIHJJ8",
        "outputId": "2b18d94b-5a7d-4202-b0c0-b039e50a8ca5"
      },
      "execution_count": null,
      "outputs": [
        {
          "output_type": "stream",
          "name": "stdout",
          "text": [
            "{1, 2, 3, 4, 5, 6, 7}\n"
          ]
        }
      ]
    },
    {
      "cell_type": "markdown",
      "source": [
        "# **Deleting Items**\n",
        "Sets Doesn't support item Deletion"
      ],
      "metadata": {
        "id": "lm1a9qfzHXMp"
      }
    },
    {
      "cell_type": "code",
      "source": [
        "# del\n",
        "s= {1,2,3,4,5}\n",
        "del(s)\n",
        "\n",
        "# it complete delete set"
      ],
      "metadata": {
        "id": "29hhymADHeDu"
      },
      "execution_count": null,
      "outputs": []
    },
    {
      "cell_type": "code",
      "source": [
        "#remove\n",
        "s = {1,2,3,4}\n",
        "s.remove(4)\n",
        "print(s)"
      ],
      "metadata": {
        "colab": {
          "base_uri": "https://localhost:8080/"
        },
        "id": "tYRWEwUHHnay",
        "outputId": "ada06540-49fe-48a6-88e1-526bd5a54549"
      },
      "execution_count": null,
      "outputs": [
        {
          "output_type": "stream",
          "name": "stdout",
          "text": [
            "{1, 2, 3}\n"
          ]
        }
      ]
    },
    {
      "cell_type": "code",
      "source": [
        "# clear\n",
        "s.clear()\n",
        "print(s)"
      ],
      "metadata": {
        "colab": {
          "base_uri": "https://localhost:8080/"
        },
        "id": "xi4rXlJPHwOu",
        "outputId": "1267b33c-6410-42e7-b049-203a7db6459f"
      },
      "execution_count": null,
      "outputs": [
        {
          "output_type": "stream",
          "name": "stdout",
          "text": [
            "set()\n"
          ]
        }
      ]
    },
    {
      "cell_type": "code",
      "source": [
        "print({1,2,3,4,5})"
      ],
      "metadata": {
        "colab": {
          "base_uri": "https://localhost:8080/"
        },
        "id": "CylV-ArpwAxz",
        "outputId": "41949891-2609-4e54-acc6-39dab6771291"
      },
      "execution_count": null,
      "outputs": [
        {
          "output_type": "stream",
          "name": "stdout",
          "text": [
            "{1, 2, 3, 4, 5}\n"
          ]
        }
      ]
    },
    {
      "cell_type": "code",
      "execution_count": null,
      "metadata": {
        "id": "yjnhTtj7YrCV"
      },
      "outputs": [],
      "source": [
        "s=set([1,2,3])"
      ]
    },
    {
      "cell_type": "code",
      "execution_count": null,
      "metadata": {
        "colab": {
          "base_uri": "https://localhost:8080/"
        },
        "id": "683R1dw7YrCV",
        "outputId": "c5eef42e-9210-42d6-ba81-743d2ff22982"
      },
      "outputs": [
        {
          "output_type": "execute_result",
          "data": {
            "text/plain": [
              "({1, 2, 3}, set)"
            ]
          },
          "metadata": {},
          "execution_count": 149
        }
      ],
      "source": [
        "s,type(s)"
      ]
    },
    {
      "cell_type": "code",
      "execution_count": null,
      "metadata": {
        "id": "qSnG8EcYYrCV"
      },
      "outputs": [],
      "source": [
        "s = {1,2,3}"
      ]
    },
    {
      "cell_type": "code",
      "execution_count": null,
      "metadata": {
        "colab": {
          "base_uri": "https://localhost:8080/"
        },
        "id": "bJ33B06vYrCW",
        "outputId": "a546e2d3-d08a-4821-de88-63391956ab85"
      },
      "outputs": [
        {
          "output_type": "execute_result",
          "data": {
            "text/plain": [
              "{1, 2, 3}"
            ]
          },
          "metadata": {},
          "execution_count": 151
        }
      ],
      "source": [
        "s"
      ]
    },
    {
      "cell_type": "code",
      "execution_count": null,
      "metadata": {
        "id": "buVvpDlpYrCX"
      },
      "outputs": [],
      "source": [
        "s.add(5)"
      ]
    },
    {
      "cell_type": "code",
      "execution_count": null,
      "metadata": {
        "colab": {
          "base_uri": "https://localhost:8080/"
        },
        "id": "N9CH3uwbYrCX",
        "outputId": "9103234b-f040-44bb-e048-bbff98a9dfb4"
      },
      "outputs": [
        {
          "output_type": "execute_result",
          "data": {
            "text/plain": [
              "{1, 2, 3, 5}"
            ]
          },
          "metadata": {},
          "execution_count": 153
        }
      ],
      "source": [
        "s"
      ]
    },
    {
      "cell_type": "code",
      "execution_count": null,
      "metadata": {
        "colab": {
          "base_uri": "https://localhost:8080/"
        },
        "id": "LNHv5PBUYrCX",
        "outputId": "26187dc6-08e4-4620-a863-3b2efc27b550"
      },
      "outputs": [
        {
          "output_type": "execute_result",
          "data": {
            "text/plain": [
              "1"
            ]
          },
          "metadata": {},
          "execution_count": 154
        }
      ],
      "source": [
        "s.pop()  # it select random number from set"
      ]
    },
    {
      "cell_type": "code",
      "execution_count": null,
      "metadata": {
        "colab": {
          "base_uri": "https://localhost:8080/"
        },
        "id": "_07lnW5IYrCX",
        "outputId": "5a66b77b-b9b1-46bd-90a6-c883a2b1125d"
      },
      "outputs": [
        {
          "output_type": "execute_result",
          "data": {
            "text/plain": [
              "list"
            ]
          },
          "metadata": {},
          "execution_count": 155
        }
      ],
      "source": [
        "l = [1,3,3,1,2,1,2,3,3,3,3,2,2,2,1,1,2]\n",
        "type(l)"
      ]
    },
    {
      "cell_type": "code",
      "execution_count": null,
      "metadata": {
        "id": "TZrGC1cKYrCX"
      },
      "outputs": [],
      "source": [
        "s=set(l)"
      ]
    },
    {
      "cell_type": "code",
      "execution_count": null,
      "metadata": {
        "colab": {
          "base_uri": "https://localhost:8080/"
        },
        "id": "U4u_Tc1yYrCX",
        "outputId": "b6b8ba97-546e-484e-e876-c03a67c49115"
      },
      "outputs": [
        {
          "output_type": "execute_result",
          "data": {
            "text/plain": [
              "{1, 2, 3}"
            ]
          },
          "metadata": {},
          "execution_count": 157
        }
      ],
      "source": [
        "s"
      ]
    },
    {
      "cell_type": "markdown",
      "source": [
        "# **Set opeartion**"
      ],
      "metadata": {
        "id": "FyNgbFoJH6x4"
      }
    },
    {
      "cell_type": "code",
      "source": [
        "s1 = {1,2,3,4,5}\n",
        "s2 = {4,5,6,7,8}\n",
        "# union\n",
        "print(s1 | s2)\n",
        "# intersection\n",
        "print(s1 & s2)\n",
        "# Differences\n",
        "print(s1 - s2)\n",
        "print(s2 - s1)\n",
        "# membership test\n",
        "print(1 in s1)\n",
        "print(1 not in s1)\n",
        "# iteration\n",
        "for i in s1:\n",
        "  print(i)"
      ],
      "metadata": {
        "colab": {
          "base_uri": "https://localhost:8080/"
        },
        "id": "qvPPjm5DIWEu",
        "outputId": "354a9285-9891-4bee-fb3c-6d6715a8498d"
      },
      "execution_count": null,
      "outputs": [
        {
          "output_type": "stream",
          "name": "stdout",
          "text": [
            "{1, 2, 3, 4, 5, 6, 7, 8}\n",
            "{4, 5}\n",
            "{1, 2, 3}\n",
            "{8, 6, 7}\n",
            "True\n",
            "False\n",
            "1\n",
            "2\n",
            "3\n",
            "4\n",
            "5\n"
          ]
        }
      ]
    },
    {
      "cell_type": "markdown",
      "source": [
        "# **Set Function**"
      ],
      "metadata": {
        "id": "8rPo6d9YIhgC"
      }
    },
    {
      "cell_type": "code",
      "source": [
        "# len/sum/min/max/sorted\n",
        "s = {3,1,4,5,2,7}\n",
        "print(len(s))\n",
        "print(sum(s))\n",
        "print(min(s))\n",
        "print(max(s))\n",
        "print(sorted(s))"
      ],
      "metadata": {
        "colab": {
          "base_uri": "https://localhost:8080/"
        },
        "id": "_Jntn6ucIoDS",
        "outputId": "ecdc7d29-5bd2-42ed-cde2-f29622e2a353"
      },
      "execution_count": null,
      "outputs": [
        {
          "output_type": "stream",
          "name": "stdout",
          "text": [
            "6\n",
            "22\n",
            "1\n",
            "7\n",
            "[1, 2, 3, 4, 5, 7]\n"
          ]
        }
      ]
    },
    {
      "cell_type": "code",
      "source": [
        "# copy\n",
        "s1 = {1,2,3}\n",
        "s2 = s1.copy()\n",
        "print(s1)\n",
        "print(s2)"
      ],
      "metadata": {
        "colab": {
          "base_uri": "https://localhost:8080/"
        },
        "id": "ky7P-EPWI8FR",
        "outputId": "8628d986-7542-4cc9-b1b6-3ced867e73a4"
      },
      "execution_count": null,
      "outputs": [
        {
          "output_type": "stream",
          "name": "stdout",
          "text": [
            "{1, 2, 3}\n",
            "{1, 2, 3}\n"
          ]
        }
      ]
    },
    {
      "cell_type": "markdown",
      "metadata": {
        "id": "b4zUS5evYrCY"
      },
      "source": [
        "### Exercise\n",
        "\n",
        "Create a set named fruits that contains the following items: \"apple\", \"banana\", \"cherry\".\n",
        "\n",
        "Add \"orange\" to the fruits set. Print the set to confirm the addition.\n",
        "\n",
        "Remove element"
      ]
    },
    {
      "cell_type": "code",
      "execution_count": null,
      "metadata": {
        "id": "p0qbXVGDYrCY",
        "outputId": "cb8e089c-1bd6-435e-d408-19559a843552"
      },
      "outputs": [
        {
          "name": "stdout",
          "output_type": "stream",
          "text": [
            "{'cherry', 'banana', 'apple'}\n",
            "{'cherry', 'orange', 'banana', 'apple'}\n",
            "cherry\n",
            "{'orange', 'banana', 'apple'}\n"
          ]
        }
      ],
      "source": []
    },
    {
      "cell_type": "markdown",
      "metadata": {
        "id": "G5RGzWshYrCY"
      },
      "source": [
        "<details><summary>Click here for the solution</summary>\n",
        "\n",
        "```python\n",
        "\n",
        "fruits = {\"apple\", \"banana\", \"cherry\"}\n",
        "print(fruits)  # Output: {'apple', 'banana', 'cherry'}\n",
        "\n",
        "fruits.add(\"orange\")\n",
        "print(fruits)  # Output: {'apple', 'banana', 'cherry', 'orange'}\n",
        "\n",
        "popped_element = fruits.pop()\n",
        "print(popped_element)  # Output: (an arbitrary element from the set)\n",
        "print(fruits)  # Output: (set after removal of the popped element)\n",
        "\n",
        "```\n",
        "</details>\n",
        "\n",
        "```"
      ]
    },
    {
      "cell_type": "markdown",
      "source": [
        "# **Type Conversion**\n",
        "How to covert One Datatypeinto another In python?\n",
        "int(): Converts a value to an integer data type. This is useful when you want to convert a\n",
        "string or a floating-point number to an integer."
      ],
      "metadata": {
        "id": "Es7XOVb9zfxy"
      }
    },
    {
      "cell_type": "code",
      "source": [
        "str_number = \"123\"\n",
        "int_number = int(str_number) # Converts the string \"123\" to an integer\n",
        "int_number"
      ],
      "metadata": {
        "colab": {
          "base_uri": "https://localhost:8080/"
        },
        "id": "Z_PpuZOLztzj",
        "outputId": "13bf99f6-1fc8-4570-870c-749fc2c41078"
      },
      "execution_count": null,
      "outputs": [
        {
          "output_type": "execute_result",
          "data": {
            "text/plain": [
              "123"
            ]
          },
          "metadata": {},
          "execution_count": 161
        }
      ]
    },
    {
      "cell_type": "code",
      "source": [
        "#float(): Converts a value to a floating-point data type. It is used to convert integers or strings containing numeric values to floating-point numbers\n",
        "int_value = 42\n",
        "float_value = float(int_value) # Converts the integer 42 to a float\n",
        "float_value"
      ],
      "metadata": {
        "colab": {
          "base_uri": "https://localhost:8080/"
        },
        "id": "WirMtajhz4Kt",
        "outputId": "104712e0-1a78-454f-d5d5-e2c92952059f"
      },
      "execution_count": null,
      "outputs": [
        {
          "output_type": "execute_result",
          "data": {
            "text/plain": [
              "42.0"
            ]
          },
          "metadata": {},
          "execution_count": 162
        }
      ]
    },
    {
      "cell_type": "code",
      "source": [
        "a = 23\n",
        "b = \"24\"\n",
        "print(a+b)"
      ],
      "metadata": {
        "colab": {
          "base_uri": "https://localhost:8080/",
          "height": 180
        },
        "id": "W4NheRmVz-cw",
        "outputId": "1831acf9-20e2-4bc3-f77f-002313469729"
      },
      "execution_count": null,
      "outputs": [
        {
          "output_type": "error",
          "ename": "TypeError",
          "evalue": "unsupported operand type(s) for +: 'int' and 'str'",
          "traceback": [
            "\u001b[0;31m---------------------------------------------------------------------------\u001b[0m",
            "\u001b[0;31mTypeError\u001b[0m                                 Traceback (most recent call last)",
            "\u001b[0;32m<ipython-input-163-e6c417ebef22>\u001b[0m in \u001b[0;36m<cell line: 0>\u001b[0;34m()\u001b[0m\n\u001b[1;32m      1\u001b[0m \u001b[0ma\u001b[0m \u001b[0;34m=\u001b[0m \u001b[0;36m23\u001b[0m\u001b[0;34m\u001b[0m\u001b[0;34m\u001b[0m\u001b[0m\n\u001b[1;32m      2\u001b[0m \u001b[0mb\u001b[0m \u001b[0;34m=\u001b[0m \u001b[0;34m\"24\"\u001b[0m\u001b[0;34m\u001b[0m\u001b[0;34m\u001b[0m\u001b[0m\n\u001b[0;32m----> 3\u001b[0;31m \u001b[0mprint\u001b[0m\u001b[0;34m(\u001b[0m\u001b[0ma\u001b[0m\u001b[0;34m+\u001b[0m\u001b[0mb\u001b[0m\u001b[0;34m)\u001b[0m\u001b[0;34m\u001b[0m\u001b[0;34m\u001b[0m\u001b[0m\n\u001b[0m",
            "\u001b[0;31mTypeError\u001b[0m: unsupported operand type(s) for +: 'int' and 'str'"
          ]
        }
      ]
    },
    {
      "cell_type": "markdown",
      "source": [
        "# It Gives error beacause We do not add float into integer datatyupe so we have to convert\n",
        "above opeartion"
      ],
      "metadata": {
        "id": "pbp-b5cA0ISb"
      }
    },
    {
      "cell_type": "code",
      "source": [
        "a = 23\n",
        "b = \"24\"\n",
        "print(float(a)+float(b))"
      ],
      "metadata": {
        "colab": {
          "base_uri": "https://localhost:8080/"
        },
        "id": "hnux-lJW0P_F",
        "outputId": "00de5245-d672-4ef1-d6b0-ab4902e959f0"
      },
      "execution_count": null,
      "outputs": [
        {
          "output_type": "stream",
          "name": "stdout",
          "text": [
            "47.0\n"
          ]
        }
      ]
    },
    {
      "cell_type": "markdown",
      "source": [
        "# **# Arithmetic Operators:**\n",
        "Addition (+)\n",
        "\n",
        "Subtraction (-)\n",
        "\n",
        "Multiplication (*)\n",
        "\n",
        "Division (/)\n",
        "\n",
        "Floor Division (//)\n",
        "\n",
        "Modulus (%)\n",
        "\n",
        "Exponentiation (**)"
      ],
      "metadata": {
        "id": "uia0yhwj0yMv"
      }
    },
    {
      "cell_type": "code",
      "source": [
        "print(5+6) # Addtion -> adding the numbers\n",
        "print(5-6) # subtraction-> subtract the number\n",
        "print(5*6) # Multiplication -> Multiply the number\n",
        "print(5/2) # Divsion -> Divide the numnber\n",
        "print(5//2) # Floor Division -> It trasform into integer number= 2.5 convert into 2\n",
        "print(5%2) # Modulus -> It Provides remainder of the Divsion\n",
        "print(5**2) # Exponential -> raising a number to a certain power.(raised to power)"
      ],
      "metadata": {
        "colab": {
          "base_uri": "https://localhost:8080/"
        },
        "id": "uANw9tx90896",
        "outputId": "3c8f56a4-4402-41d4-862e-d93004555471"
      },
      "execution_count": null,
      "outputs": [
        {
          "output_type": "stream",
          "name": "stdout",
          "text": [
            "11\n",
            "-1\n",
            "30\n",
            "2.5\n",
            "2\n",
            "1\n",
            "25\n"
          ]
        }
      ]
    },
    {
      "cell_type": "markdown",
      "metadata": {
        "id": "4Ih-aD_2YrCZ"
      },
      "source": [
        "# **Comparison Operators/ Relational Opeartors:**\n",
        "\n",
        "Equal to (==)\n",
        "\n",
        "Not equal to (!=)\n",
        "\n",
        "Less than (<)\n",
        "\n",
        "Greater than (>)\n",
        "\n",
        "Less than or equal to (<=)\n",
        "\n",
        "Greater than or equal to (>=)"
      ]
    },
    {
      "cell_type": "code",
      "source": [
        "print(4==4)\n",
        "print(4!=4)\n",
        "print(4<5)\n",
        "print(4>5)\n",
        "print(4<=4)\n",
        "print(4>=4)"
      ],
      "metadata": {
        "colab": {
          "base_uri": "https://localhost:8080/"
        },
        "id": "rEogBpGg1R7H",
        "outputId": "4041117b-569c-4376-b8f6-413df0b4d94d"
      },
      "execution_count": null,
      "outputs": [
        {
          "output_type": "stream",
          "name": "stdout",
          "text": [
            "True\n",
            "False\n",
            "True\n",
            "False\n",
            "True\n",
            "True\n"
          ]
        }
      ]
    },
    {
      "cell_type": "code",
      "execution_count": null,
      "metadata": {
        "colab": {
          "base_uri": "https://localhost:8080/"
        },
        "id": "cEWGavIEYrCZ",
        "outputId": "cbebaaa5-e733-4910-c659-798950d35c48"
      },
      "outputs": [
        {
          "output_type": "execute_result",
          "data": {
            "text/plain": [
              "False"
            ]
          },
          "metadata": {},
          "execution_count": 167
        }
      ],
      "source": [
        "1 > 2"
      ]
    },
    {
      "cell_type": "code",
      "execution_count": null,
      "metadata": {
        "colab": {
          "base_uri": "https://localhost:8080/"
        },
        "id": "kr_dingPYrCZ",
        "outputId": "a6b2f09f-a3cf-491d-d2f4-0623999173fe"
      },
      "outputs": [
        {
          "output_type": "execute_result",
          "data": {
            "text/plain": [
              "True"
            ]
          },
          "metadata": {},
          "execution_count": 168
        }
      ],
      "source": [
        "1 < 2"
      ]
    },
    {
      "cell_type": "code",
      "execution_count": null,
      "metadata": {
        "colab": {
          "base_uri": "https://localhost:8080/"
        },
        "id": "ICdlhxvWYrCZ",
        "outputId": "7d7a515d-d8a0-45bf-cddd-1f24367a7377"
      },
      "outputs": [
        {
          "output_type": "execute_result",
          "data": {
            "text/plain": [
              "True"
            ]
          },
          "metadata": {},
          "execution_count": 169
        }
      ],
      "source": [
        "1 >= 1"
      ]
    },
    {
      "cell_type": "code",
      "execution_count": null,
      "metadata": {
        "colab": {
          "base_uri": "https://localhost:8080/"
        },
        "id": "F1G9ABozYrCa",
        "outputId": "9db46303-daed-48e0-df57-ca8b710a4d2d"
      },
      "outputs": [
        {
          "output_type": "execute_result",
          "data": {
            "text/plain": [
              "True"
            ]
          },
          "metadata": {},
          "execution_count": 170
        }
      ],
      "source": [
        "1 <= 4"
      ]
    },
    {
      "cell_type": "code",
      "execution_count": null,
      "metadata": {
        "colab": {
          "base_uri": "https://localhost:8080/"
        },
        "id": "MnajVoclYrCb",
        "outputId": "95b5e8ea-7d88-480b-9d6d-af6591cd2c43"
      },
      "outputs": [
        {
          "output_type": "execute_result",
          "data": {
            "text/plain": [
              "True"
            ]
          },
          "metadata": {},
          "execution_count": 171
        }
      ],
      "source": [
        "1 == 1"
      ]
    },
    {
      "cell_type": "code",
      "execution_count": null,
      "metadata": {
        "colab": {
          "base_uri": "https://localhost:8080/"
        },
        "id": "yayG1iFyYrCb",
        "outputId": "402f50a6-cc32-4fad-d96e-3d9878b8e8f4"
      },
      "outputs": [
        {
          "output_type": "execute_result",
          "data": {
            "text/plain": [
              "False"
            ]
          },
          "metadata": {},
          "execution_count": 172
        }
      ],
      "source": [
        "'hi' == 'bye'"
      ]
    },
    {
      "cell_type": "markdown",
      "metadata": {
        "id": "18FZra6sYrCc"
      },
      "source": [
        "# **Logical Operators:**\n",
        "\n",
        "Logical AND (and)\n",
        "\n",
        "Logical OR (or)\n",
        "\n",
        "Logical NOT (not)"
      ]
    },
    {
      "cell_type": "code",
      "source": [
        "p = True\n",
        "q = False\n",
        "print(p and q) # true and false -> 1 and 0 = 0\n",
        "print(p or q) # true or false -> 1 or 0 = 1\n",
        "print(not p)"
      ],
      "metadata": {
        "colab": {
          "base_uri": "https://localhost:8080/"
        },
        "id": "mAzhOLwR1wUF",
        "outputId": "104bda9f-8a63-4c76-e4b2-1be8a9b19dba"
      },
      "execution_count": null,
      "outputs": [
        {
          "output_type": "stream",
          "name": "stdout",
          "text": [
            "False\n",
            "True\n",
            "False\n"
          ]
        }
      ]
    },
    {
      "cell_type": "code",
      "execution_count": null,
      "metadata": {
        "colab": {
          "base_uri": "https://localhost:8080/"
        },
        "id": "sfU0xm4JYrCc",
        "outputId": "b1720483-bd14-4ba8-ac68-170c64562cb7"
      },
      "outputs": [
        {
          "output_type": "execute_result",
          "data": {
            "text/plain": [
              "False"
            ]
          },
          "metadata": {},
          "execution_count": 174
        }
      ],
      "source": [
        "(1 > 2) and (2 < 3)"
      ]
    },
    {
      "cell_type": "code",
      "execution_count": null,
      "metadata": {
        "colab": {
          "base_uri": "https://localhost:8080/"
        },
        "id": "JX5zgr3qYrCc",
        "outputId": "cff2b4b5-845d-4c7b-8138-bdd420f66485"
      },
      "outputs": [
        {
          "output_type": "execute_result",
          "data": {
            "text/plain": [
              "True"
            ]
          },
          "metadata": {},
          "execution_count": 175
        }
      ],
      "source": [
        "(1 > 2) or (2 < 3)"
      ]
    },
    {
      "cell_type": "code",
      "execution_count": null,
      "metadata": {
        "colab": {
          "base_uri": "https://localhost:8080/"
        },
        "id": "CDWAnbbUYrCd",
        "outputId": "159c23b2-da4a-4ae3-e98b-82182057a5d1"
      },
      "outputs": [
        {
          "output_type": "execute_result",
          "data": {
            "text/plain": [
              "True"
            ]
          },
          "metadata": {},
          "execution_count": 176
        }
      ],
      "source": [
        "(1 == 2) or (2 == 3) or (4 == 4)"
      ]
    },
    {
      "cell_type": "code",
      "execution_count": null,
      "metadata": {
        "colab": {
          "base_uri": "https://localhost:8080/"
        },
        "id": "DAi4FPx7YrCd",
        "outputId": "922d9556-80e7-4fc3-c7b6-03b026acc4c8"
      },
      "outputs": [
        {
          "output_type": "execute_result",
          "data": {
            "text/plain": [
              "True"
            ]
          },
          "metadata": {},
          "execution_count": 177
        }
      ],
      "source": [
        " 1 != 2"
      ]
    },
    {
      "cell_type": "markdown",
      "source": [
        "# **Assignment Operators:**\n",
        "Assignment (=)\n",
        "\n",
        "Add and Assign (+=)\n",
        "\n",
        "Subtract and Assign (-=)\n",
        "\n",
        "Multiply and Assign (*=)\n",
        "\n",
        "Divide and Assign (/=)\n",
        "\n",
        "Floor Divide and Assign (//=)\n",
        "\n",
        "Modulus and Assign (%=)\n",
        "\n",
        "Exponentiate and Assign (**=)"
      ],
      "metadata": {
        "id": "XAhJLah02A0F"
      }
    },
    {
      "cell_type": "code",
      "source": [
        "x = 10\n",
        "x += 5\n",
        "print(x) # Equivalent to x = x + 5"
      ],
      "metadata": {
        "colab": {
          "base_uri": "https://localhost:8080/"
        },
        "id": "6wR6qzM719n6",
        "outputId": "a3e9672c-0824-459c-e0f0-ec83c076d46b"
      },
      "execution_count": null,
      "outputs": [
        {
          "output_type": "stream",
          "name": "stdout",
          "text": [
            "15\n"
          ]
        }
      ]
    },
    {
      "cell_type": "code",
      "source": [
        "x = 10\n",
        "x -= 3 # Equivalent to x = x - 3\n",
        "x *= 2 # Equivalent to x = x * 2\n",
        "x /= 4 # Equivalent to x = x / 4\n",
        "x //= 2 # Equivalent to x = x // 2\n",
        "x %= 3 # Equivalent to x = x % 3\n",
        "x **= 2 # Equivalent to x = x ** 2"
      ],
      "metadata": {
        "id": "m825IEU_2SaY"
      },
      "execution_count": null,
      "outputs": []
    },
    {
      "cell_type": "markdown",
      "metadata": {
        "id": "877IZ4V0YrCd"
      },
      "source": [
        "## if,elif, else Statements"
      ]
    },
    {
      "cell_type": "code",
      "execution_count": null,
      "metadata": {
        "colab": {
          "base_uri": "https://localhost:8080/"
        },
        "id": "Yc2U88lBYrCe",
        "outputId": "f68091a4-0ade-4425-9ac7-7fff31987acd"
      },
      "outputs": [
        {
          "output_type": "stream",
          "name": "stdout",
          "text": [
            "Yep!\n"
          ]
        }
      ],
      "source": [
        "\"\"\"\n",
        " 1_ (if)\n",
        "if condition :\n",
        "    statement\n",
        "\n",
        " 2_ (if else)\n",
        "if condition :\n",
        "    statement\n",
        "else :\n",
        "    statement\n",
        "\n",
        "3_ (if elif)\n",
        "if condition :\n",
        "    statement\n",
        "elif condition :\n",
        "    statement\n",
        "else :\n",
        "    statement\n",
        "\n",
        "\"\"\"\n",
        "\n",
        "if 1 < 2:\n",
        "    print('Yep!')"
      ]
    },
    {
      "cell_type": "code",
      "execution_count": null,
      "metadata": {
        "id": "Ubwi7GDnYrCe"
      },
      "outputs": [],
      "source": [
        "if 1 > 2:\n",
        "    print('yep!')"
      ]
    },
    {
      "cell_type": "code",
      "execution_count": null,
      "metadata": {
        "colab": {
          "base_uri": "https://localhost:8080/"
        },
        "id": "eKQ-ZyjOYrCf",
        "outputId": "eced0c7c-f528-4d38-9584-df10561425f3"
      },
      "outputs": [
        {
          "output_type": "stream",
          "name": "stdout",
          "text": [
            "first\n"
          ]
        }
      ],
      "source": [
        "if 1 < 2:\n",
        "    print('first')\n",
        "else:\n",
        "    print('last')"
      ]
    },
    {
      "cell_type": "code",
      "execution_count": null,
      "metadata": {
        "colab": {
          "base_uri": "https://localhost:8080/"
        },
        "id": "cqYnYZBKYrCf",
        "outputId": "06081377-46ed-419d-974e-15d87eca183c"
      },
      "outputs": [
        {
          "output_type": "stream",
          "name": "stdout",
          "text": [
            "last\n"
          ]
        }
      ],
      "source": [
        "if 1 > 2:\n",
        "    print('first')\n",
        "else:\n",
        "    print('last')"
      ]
    },
    {
      "cell_type": "code",
      "execution_count": null,
      "metadata": {
        "colab": {
          "base_uri": "https://localhost:8080/"
        },
        "id": "5VE8OBmDYrCf",
        "outputId": "5b9c3458-5fba-4066-d958-5a78ae6aa002"
      },
      "outputs": [
        {
          "output_type": "stream",
          "name": "stdout",
          "text": [
            "middle\n"
          ]
        }
      ],
      "source": [
        "if 1 == 2:\n",
        "    print('first')\n",
        "elif 3 == 3:\n",
        "    print('middle')\n",
        "else:\n",
        "    print('Last')"
      ]
    },
    {
      "cell_type": "code",
      "execution_count": null,
      "metadata": {
        "colab": {
          "base_uri": "https://localhost:8080/"
        },
        "id": "AAHbZvpZYrCg",
        "outputId": "000d1541-117d-4b9c-c481-a0fd9c2d3bf1"
      },
      "outputs": [
        {
          "output_type": "stream",
          "name": "stdout",
          "text": [
            "Yes\n"
          ]
        }
      ],
      "source": [
        "if 3 in [1,2,3,4,5]:\n",
        "    print('Yes')\n",
        "else :\n",
        "    print('NO')"
      ]
    },
    {
      "cell_type": "code",
      "execution_count": null,
      "metadata": {
        "colab": {
          "base_uri": "https://localhost:8080/"
        },
        "id": "wyD1MYHZYrCg",
        "outputId": "cbcd70d5-33c6-474a-cc0b-6f1824b9a5c0"
      },
      "outputs": [
        {
          "output_type": "stream",
          "name": "stdout",
          "text": [
            "NO\n"
          ]
        }
      ],
      "source": [
        "if 3 not in [1,2,3,4,5]:\n",
        "    print('Yes')\n",
        "else :\n",
        "    print('NO')"
      ]
    },
    {
      "cell_type": "code",
      "execution_count": null,
      "metadata": {
        "colab": {
          "base_uri": "https://localhost:8080/"
        },
        "id": "td81fNioYrCg",
        "outputId": "bde2f3bd-b9a7-4c6d-b32b-5dd9705d1bc0"
      },
      "outputs": [
        {
          "output_type": "stream",
          "name": "stdout",
          "text": [
            "pass\n",
            "C\n"
          ]
        }
      ],
      "source": [
        "#Examples\n",
        "grade=70\n",
        "\n",
        "if grade>=70:\n",
        "    print(\"pass\")\n",
        "else:\n",
        "    print('fail')\n",
        "\n",
        "if 90<=grade<=100:\n",
        "    print('A')\n",
        "elif grade<90 and grade>=80:\n",
        "    print(\"B\")\n",
        "elif  70<=grade<80:\n",
        "    print(\"C\")\n",
        "elif 0<=grade<70:\n",
        "    print(\"Fail\")\n",
        "else:\n",
        "    print(\"Invalid grade\")"
      ]
    },
    {
      "cell_type": "markdown",
      "metadata": {
        "id": "NF196JK9YrCh"
      },
      "source": [
        "### Exercise\n",
        "\n",
        "Takes a number input from the user, checks if the number is even or odd, and performs additional checks based on that:"
      ]
    },
    {
      "cell_type": "code",
      "execution_count": null,
      "metadata": {
        "id": "2576bQRHYrCh"
      },
      "outputs": [],
      "source": []
    },
    {
      "cell_type": "markdown",
      "metadata": {
        "id": "bYRIfOaKYrCh"
      },
      "source": [
        "<details><summary>Click here for the solution</summary>\n",
        "\n",
        "```python\n",
        "\n",
        "# Take input from the user\n",
        "number = int(input(\"Enter a number: \"))\n",
        "\n",
        "# Check if the number is even or odd\n",
        "if number % 2 == 0:\n",
        "    # If the number is even, check if it's greater than 10 or less\n",
        "    if number > 10:\n",
        "        print(f\"The number {number} is even and greater than 10.\")\n",
        "    else:\n",
        "        print(f\"The number {number} is even and less than or equal to 10.\")\n",
        "else:\n",
        "    # If the number is odd, print its value\n",
        "    print(f\"The number {number} is odd.\")\n",
        "\n",
        "```\n",
        "</details>\n",
        "\n",
        "```"
      ]
    },
    {
      "cell_type": "markdown",
      "metadata": {
        "id": "ypPm87inYrCh"
      },
      "source": [
        "# Great Job!\n",
        "# ENG : shereen saad"
      ]
    }
  ],
  "metadata": {
    "kernelspec": {
      "display_name": "Python 3 (ipykernel)",
      "language": "python",
      "name": "python3"
    },
    "language_info": {
      "codemirror_mode": {
        "name": "ipython",
        "version": 3
      },
      "file_extension": ".py",
      "mimetype": "text/x-python",
      "name": "python",
      "nbconvert_exporter": "python",
      "pygments_lexer": "ipython3",
      "version": "3.11.5"
    },
    "colab": {
      "provenance": []
    }
  },
  "nbformat": 4,
  "nbformat_minor": 0
}