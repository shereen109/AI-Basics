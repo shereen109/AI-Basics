{
  "cells": [
    {
      "cell_type": "code",
      "source": [
        "from google.colab import drive\n",
        "drive.mount('/content/drive')"
      ],
      "metadata": {
        "colab": {
          "base_uri": "https://localhost:8080/"
        },
        "id": "vWvqIwRLlzb2",
        "outputId": "a5fd1567-38a2-4f82-badb-b63cd4dcf852"
      },
      "id": "vWvqIwRLlzb2",
      "execution_count": 1,
      "outputs": [
        {
          "output_type": "stream",
          "name": "stdout",
          "text": [
            "Mounted at /content/drive\n"
          ]
        }
      ]
    },
    {
      "cell_type": "markdown",
      "id": "90627efc",
      "metadata": {
        "id": "90627efc"
      },
      "source": [
        "# Library"
      ]
    },
    {
      "cell_type": "code",
      "execution_count": 2,
      "id": "575c20f5",
      "metadata": {
        "id": "575c20f5"
      },
      "outputs": [],
      "source": [
        "import numpy as np\n",
        "import pandas as pd\n",
        "import matplotlib.pyplot as plt"
      ]
    },
    {
      "cell_type": "markdown",
      "id": "7a50c0ee",
      "metadata": {
        "id": "7a50c0ee"
      },
      "source": [
        "# Read data"
      ]
    },
    {
      "cell_type": "code",
      "execution_count": 3,
      "id": "c3cec9f7-a2ec-4c71-bf34-46f360b065c2",
      "metadata": {
        "id": "c3cec9f7-a2ec-4c71-bf34-46f360b065c2"
      },
      "outputs": [],
      "source": [
        "df=pd.read_csv('/content/drive/MyDrive/Heart attack.csv')"
      ]
    },
    {
      "cell_type": "code",
      "execution_count": 4,
      "id": "7710b197-d947-47f3-adcf-9d321f954190",
      "metadata": {
        "colab": {
          "base_uri": "https://localhost:8080/",
          "height": 206
        },
        "id": "7710b197-d947-47f3-adcf-9d321f954190",
        "outputId": "15840443-1793-49fd-eccf-8d390abb26be"
      },
      "outputs": [
        {
          "output_type": "execute_result",
          "data": {
            "text/plain": [
              "   gender       age  hypertension  heart_disease  ever_married  work_type  \\\n",
              "0     0.5  0.816895           0.0            1.0           1.0       0.50   \n",
              "1     0.0  0.743652           0.0            0.0           1.0       0.75   \n",
              "2     0.5  0.975586           0.0            1.0           1.0       0.50   \n",
              "3     0.0  0.597168           0.0            0.0           1.0       0.50   \n",
              "4     0.0  0.963379           1.0            0.0           1.0       0.75   \n",
              "\n",
              "   Residence_type  avg_glucose_level       bmi  smoking_status  stroke  \n",
              "0             1.0           0.801265  0.301260        0.333333       1  \n",
              "1             0.0           0.679023  0.212981        0.666667       1  \n",
              "2             0.0           0.234512  0.254296        0.666667       1  \n",
              "3             1.0           0.536008  0.276060        1.000000       1  \n",
              "4             0.0           0.549349  0.156930        0.666667       1  "
            ],
            "text/html": [
              "\n",
              "  <div id=\"df-703dbb16-ea94-45c0-a94e-7091d0075ec8\" class=\"colab-df-container\">\n",
              "    <div>\n",
              "<style scoped>\n",
              "    .dataframe tbody tr th:only-of-type {\n",
              "        vertical-align: middle;\n",
              "    }\n",
              "\n",
              "    .dataframe tbody tr th {\n",
              "        vertical-align: top;\n",
              "    }\n",
              "\n",
              "    .dataframe thead th {\n",
              "        text-align: right;\n",
              "    }\n",
              "</style>\n",
              "<table border=\"1\" class=\"dataframe\">\n",
              "  <thead>\n",
              "    <tr style=\"text-align: right;\">\n",
              "      <th></th>\n",
              "      <th>gender</th>\n",
              "      <th>age</th>\n",
              "      <th>hypertension</th>\n",
              "      <th>heart_disease</th>\n",
              "      <th>ever_married</th>\n",
              "      <th>work_type</th>\n",
              "      <th>Residence_type</th>\n",
              "      <th>avg_glucose_level</th>\n",
              "      <th>bmi</th>\n",
              "      <th>smoking_status</th>\n",
              "      <th>stroke</th>\n",
              "    </tr>\n",
              "  </thead>\n",
              "  <tbody>\n",
              "    <tr>\n",
              "      <th>0</th>\n",
              "      <td>0.5</td>\n",
              "      <td>0.816895</td>\n",
              "      <td>0.0</td>\n",
              "      <td>1.0</td>\n",
              "      <td>1.0</td>\n",
              "      <td>0.50</td>\n",
              "      <td>1.0</td>\n",
              "      <td>0.801265</td>\n",
              "      <td>0.301260</td>\n",
              "      <td>0.333333</td>\n",
              "      <td>1</td>\n",
              "    </tr>\n",
              "    <tr>\n",
              "      <th>1</th>\n",
              "      <td>0.0</td>\n",
              "      <td>0.743652</td>\n",
              "      <td>0.0</td>\n",
              "      <td>0.0</td>\n",
              "      <td>1.0</td>\n",
              "      <td>0.75</td>\n",
              "      <td>0.0</td>\n",
              "      <td>0.679023</td>\n",
              "      <td>0.212981</td>\n",
              "      <td>0.666667</td>\n",
              "      <td>1</td>\n",
              "    </tr>\n",
              "    <tr>\n",
              "      <th>2</th>\n",
              "      <td>0.5</td>\n",
              "      <td>0.975586</td>\n",
              "      <td>0.0</td>\n",
              "      <td>1.0</td>\n",
              "      <td>1.0</td>\n",
              "      <td>0.50</td>\n",
              "      <td>0.0</td>\n",
              "      <td>0.234512</td>\n",
              "      <td>0.254296</td>\n",
              "      <td>0.666667</td>\n",
              "      <td>1</td>\n",
              "    </tr>\n",
              "    <tr>\n",
              "      <th>3</th>\n",
              "      <td>0.0</td>\n",
              "      <td>0.597168</td>\n",
              "      <td>0.0</td>\n",
              "      <td>0.0</td>\n",
              "      <td>1.0</td>\n",
              "      <td>0.50</td>\n",
              "      <td>1.0</td>\n",
              "      <td>0.536008</td>\n",
              "      <td>0.276060</td>\n",
              "      <td>1.000000</td>\n",
              "      <td>1</td>\n",
              "    </tr>\n",
              "    <tr>\n",
              "      <th>4</th>\n",
              "      <td>0.0</td>\n",
              "      <td>0.963379</td>\n",
              "      <td>1.0</td>\n",
              "      <td>0.0</td>\n",
              "      <td>1.0</td>\n",
              "      <td>0.75</td>\n",
              "      <td>0.0</td>\n",
              "      <td>0.549349</td>\n",
              "      <td>0.156930</td>\n",
              "      <td>0.666667</td>\n",
              "      <td>1</td>\n",
              "    </tr>\n",
              "  </tbody>\n",
              "</table>\n",
              "</div>\n",
              "    <div class=\"colab-df-buttons\">\n",
              "\n",
              "  <div class=\"colab-df-container\">\n",
              "    <button class=\"colab-df-convert\" onclick=\"convertToInteractive('df-703dbb16-ea94-45c0-a94e-7091d0075ec8')\"\n",
              "            title=\"Convert this dataframe to an interactive table.\"\n",
              "            style=\"display:none;\">\n",
              "\n",
              "  <svg xmlns=\"http://www.w3.org/2000/svg\" height=\"24px\" viewBox=\"0 -960 960 960\">\n",
              "    <path d=\"M120-120v-720h720v720H120Zm60-500h600v-160H180v160Zm220 220h160v-160H400v160Zm0 220h160v-160H400v160ZM180-400h160v-160H180v160Zm440 0h160v-160H620v160ZM180-180h160v-160H180v160Zm440 0h160v-160H620v160Z\"/>\n",
              "  </svg>\n",
              "    </button>\n",
              "\n",
              "  <style>\n",
              "    .colab-df-container {\n",
              "      display:flex;\n",
              "      gap: 12px;\n",
              "    }\n",
              "\n",
              "    .colab-df-convert {\n",
              "      background-color: #E8F0FE;\n",
              "      border: none;\n",
              "      border-radius: 50%;\n",
              "      cursor: pointer;\n",
              "      display: none;\n",
              "      fill: #1967D2;\n",
              "      height: 32px;\n",
              "      padding: 0 0 0 0;\n",
              "      width: 32px;\n",
              "    }\n",
              "\n",
              "    .colab-df-convert:hover {\n",
              "      background-color: #E2EBFA;\n",
              "      box-shadow: 0px 1px 2px rgba(60, 64, 67, 0.3), 0px 1px 3px 1px rgba(60, 64, 67, 0.15);\n",
              "      fill: #174EA6;\n",
              "    }\n",
              "\n",
              "    .colab-df-buttons div {\n",
              "      margin-bottom: 4px;\n",
              "    }\n",
              "\n",
              "    [theme=dark] .colab-df-convert {\n",
              "      background-color: #3B4455;\n",
              "      fill: #D2E3FC;\n",
              "    }\n",
              "\n",
              "    [theme=dark] .colab-df-convert:hover {\n",
              "      background-color: #434B5C;\n",
              "      box-shadow: 0px 1px 3px 1px rgba(0, 0, 0, 0.15);\n",
              "      filter: drop-shadow(0px 1px 2px rgba(0, 0, 0, 0.3));\n",
              "      fill: #FFFFFF;\n",
              "    }\n",
              "  </style>\n",
              "\n",
              "    <script>\n",
              "      const buttonEl =\n",
              "        document.querySelector('#df-703dbb16-ea94-45c0-a94e-7091d0075ec8 button.colab-df-convert');\n",
              "      buttonEl.style.display =\n",
              "        google.colab.kernel.accessAllowed ? 'block' : 'none';\n",
              "\n",
              "      async function convertToInteractive(key) {\n",
              "        const element = document.querySelector('#df-703dbb16-ea94-45c0-a94e-7091d0075ec8');\n",
              "        const dataTable =\n",
              "          await google.colab.kernel.invokeFunction('convertToInteractive',\n",
              "                                                    [key], {});\n",
              "        if (!dataTable) return;\n",
              "\n",
              "        const docLinkHtml = 'Like what you see? Visit the ' +\n",
              "          '<a target=\"_blank\" href=https://colab.research.google.com/notebooks/data_table.ipynb>data table notebook</a>'\n",
              "          + ' to learn more about interactive tables.';\n",
              "        element.innerHTML = '';\n",
              "        dataTable['output_type'] = 'display_data';\n",
              "        await google.colab.output.renderOutput(dataTable, element);\n",
              "        const docLink = document.createElement('div');\n",
              "        docLink.innerHTML = docLinkHtml;\n",
              "        element.appendChild(docLink);\n",
              "      }\n",
              "    </script>\n",
              "  </div>\n",
              "\n",
              "\n",
              "<div id=\"df-66860b8b-b1d2-4301-be8c-e4f4e8e0d5dc\">\n",
              "  <button class=\"colab-df-quickchart\" onclick=\"quickchart('df-66860b8b-b1d2-4301-be8c-e4f4e8e0d5dc')\"\n",
              "            title=\"Suggest charts\"\n",
              "            style=\"display:none;\">\n",
              "\n",
              "<svg xmlns=\"http://www.w3.org/2000/svg\" height=\"24px\"viewBox=\"0 0 24 24\"\n",
              "     width=\"24px\">\n",
              "    <g>\n",
              "        <path d=\"M19 3H5c-1.1 0-2 .9-2 2v14c0 1.1.9 2 2 2h14c1.1 0 2-.9 2-2V5c0-1.1-.9-2-2-2zM9 17H7v-7h2v7zm4 0h-2V7h2v10zm4 0h-2v-4h2v4z\"/>\n",
              "    </g>\n",
              "</svg>\n",
              "  </button>\n",
              "\n",
              "<style>\n",
              "  .colab-df-quickchart {\n",
              "      --bg-color: #E8F0FE;\n",
              "      --fill-color: #1967D2;\n",
              "      --hover-bg-color: #E2EBFA;\n",
              "      --hover-fill-color: #174EA6;\n",
              "      --disabled-fill-color: #AAA;\n",
              "      --disabled-bg-color: #DDD;\n",
              "  }\n",
              "\n",
              "  [theme=dark] .colab-df-quickchart {\n",
              "      --bg-color: #3B4455;\n",
              "      --fill-color: #D2E3FC;\n",
              "      --hover-bg-color: #434B5C;\n",
              "      --hover-fill-color: #FFFFFF;\n",
              "      --disabled-bg-color: #3B4455;\n",
              "      --disabled-fill-color: #666;\n",
              "  }\n",
              "\n",
              "  .colab-df-quickchart {\n",
              "    background-color: var(--bg-color);\n",
              "    border: none;\n",
              "    border-radius: 50%;\n",
              "    cursor: pointer;\n",
              "    display: none;\n",
              "    fill: var(--fill-color);\n",
              "    height: 32px;\n",
              "    padding: 0;\n",
              "    width: 32px;\n",
              "  }\n",
              "\n",
              "  .colab-df-quickchart:hover {\n",
              "    background-color: var(--hover-bg-color);\n",
              "    box-shadow: 0 1px 2px rgba(60, 64, 67, 0.3), 0 1px 3px 1px rgba(60, 64, 67, 0.15);\n",
              "    fill: var(--button-hover-fill-color);\n",
              "  }\n",
              "\n",
              "  .colab-df-quickchart-complete:disabled,\n",
              "  .colab-df-quickchart-complete:disabled:hover {\n",
              "    background-color: var(--disabled-bg-color);\n",
              "    fill: var(--disabled-fill-color);\n",
              "    box-shadow: none;\n",
              "  }\n",
              "\n",
              "  .colab-df-spinner {\n",
              "    border: 2px solid var(--fill-color);\n",
              "    border-color: transparent;\n",
              "    border-bottom-color: var(--fill-color);\n",
              "    animation:\n",
              "      spin 1s steps(1) infinite;\n",
              "  }\n",
              "\n",
              "  @keyframes spin {\n",
              "    0% {\n",
              "      border-color: transparent;\n",
              "      border-bottom-color: var(--fill-color);\n",
              "      border-left-color: var(--fill-color);\n",
              "    }\n",
              "    20% {\n",
              "      border-color: transparent;\n",
              "      border-left-color: var(--fill-color);\n",
              "      border-top-color: var(--fill-color);\n",
              "    }\n",
              "    30% {\n",
              "      border-color: transparent;\n",
              "      border-left-color: var(--fill-color);\n",
              "      border-top-color: var(--fill-color);\n",
              "      border-right-color: var(--fill-color);\n",
              "    }\n",
              "    40% {\n",
              "      border-color: transparent;\n",
              "      border-right-color: var(--fill-color);\n",
              "      border-top-color: var(--fill-color);\n",
              "    }\n",
              "    60% {\n",
              "      border-color: transparent;\n",
              "      border-right-color: var(--fill-color);\n",
              "    }\n",
              "    80% {\n",
              "      border-color: transparent;\n",
              "      border-right-color: var(--fill-color);\n",
              "      border-bottom-color: var(--fill-color);\n",
              "    }\n",
              "    90% {\n",
              "      border-color: transparent;\n",
              "      border-bottom-color: var(--fill-color);\n",
              "    }\n",
              "  }\n",
              "</style>\n",
              "\n",
              "  <script>\n",
              "    async function quickchart(key) {\n",
              "      const quickchartButtonEl =\n",
              "        document.querySelector('#' + key + ' button');\n",
              "      quickchartButtonEl.disabled = true;  // To prevent multiple clicks.\n",
              "      quickchartButtonEl.classList.add('colab-df-spinner');\n",
              "      try {\n",
              "        const charts = await google.colab.kernel.invokeFunction(\n",
              "            'suggestCharts', [key], {});\n",
              "      } catch (error) {\n",
              "        console.error('Error during call to suggestCharts:', error);\n",
              "      }\n",
              "      quickchartButtonEl.classList.remove('colab-df-spinner');\n",
              "      quickchartButtonEl.classList.add('colab-df-quickchart-complete');\n",
              "    }\n",
              "    (() => {\n",
              "      let quickchartButtonEl =\n",
              "        document.querySelector('#df-66860b8b-b1d2-4301-be8c-e4f4e8e0d5dc button');\n",
              "      quickchartButtonEl.style.display =\n",
              "        google.colab.kernel.accessAllowed ? 'block' : 'none';\n",
              "    })();\n",
              "  </script>\n",
              "</div>\n",
              "\n",
              "    </div>\n",
              "  </div>\n"
            ],
            "application/vnd.google.colaboratory.intrinsic+json": {
              "type": "dataframe",
              "variable_name": "df",
              "summary": "{\n  \"name\": \"df\",\n  \"rows\": 9722,\n  \"fields\": [\n    {\n      \"column\": \"gender\",\n      \"properties\": {\n        \"dtype\": \"number\",\n        \"std\": 0.24244148138790042,\n        \"min\": 0.0,\n        \"max\": 1.0,\n        \"num_unique_values\": 574,\n        \"samples\": [\n          0.3384644657971244,\n          0.1290519645802342,\n          0.2280134443575162\n        ],\n        \"semantic_type\": \"\",\n        \"description\": \"\"\n      }\n    },\n    {\n      \"column\": \"age\",\n      \"properties\": {\n        \"dtype\": \"number\",\n        \"std\": 0.268021816969379,\n        \"min\": 0.0,\n        \"max\": 1.0,\n        \"num_unique_values\": 4505,\n        \"samples\": [\n          0.848963918880013,\n          0.9034850819577256,\n          0.62285748456721\n        ],\n        \"semantic_type\": \"\",\n        \"description\": \"\"\n      }\n    },\n    {\n      \"column\": \"hypertension\",\n      \"properties\": {\n        \"dtype\": \"number\",\n        \"std\": 0.3785649698196118,\n        \"min\": 0.0,\n        \"max\": 1.0,\n        \"num_unique_values\": 14,\n        \"samples\": [\n          0.3740160860820464,\n          0.194142294665938,\n          0.0\n        ],\n        \"semantic_type\": \"\",\n        \"description\": \"\"\n      }\n    },\n    {\n      \"column\": \"heart_disease\",\n      \"properties\": {\n        \"dtype\": \"number\",\n        \"std\": 0.3159932907267237,\n        \"min\": 0.0,\n        \"max\": 1.0,\n        \"num_unique_values\": 41,\n        \"samples\": [\n          0.8899262398189428,\n          0.7985936907866478,\n          0.9758898065913332\n        ],\n        \"semantic_type\": \"\",\n        \"description\": \"\"\n      }\n    },\n    {\n      \"column\": \"ever_married\",\n      \"properties\": {\n        \"dtype\": \"number\",\n        \"std\": 0.41903364914870805,\n        \"min\": 0.0,\n        \"max\": 1.0,\n        \"num_unique_values\": 92,\n        \"samples\": [\n          0.9083472102430096,\n          0.1241073677137774,\n          0.4834022365230042\n        ],\n        \"semantic_type\": \"\",\n        \"description\": \"\"\n      }\n    },\n    {\n      \"column\": \"work_type\",\n      \"properties\": {\n        \"dtype\": \"number\",\n        \"std\": 0.2343943264093496,\n        \"min\": 0.0,\n        \"max\": 1.0,\n        \"num_unique_values\": 1798,\n        \"samples\": [\n          0.2608716128954573,\n          0.1869040544335012,\n          0.6819285848229665\n        ],\n        \"semantic_type\": \"\",\n        \"description\": \"\"\n      }\n    },\n    {\n      \"column\": \"Residence_type\",\n      \"properties\": {\n        \"dtype\": \"number\",\n        \"std\": 0.49897611150453286,\n        \"min\": 0.0,\n        \"max\": 1.0,\n        \"num_unique_values\": 31,\n        \"samples\": [\n          0.0531574483324841,\n          0.1194488839642857,\n          0.1255829963333216\n        ],\n        \"semantic_type\": \"\",\n        \"description\": \"\"\n      }\n    },\n    {\n      \"column\": \"avg_glucose_level\",\n      \"properties\": {\n        \"dtype\": \"number\",\n        \"std\": 0.24717790260891126,\n        \"min\": 0.0,\n        \"max\": 1.0,\n        \"num_unique_values\": 8591,\n        \"samples\": [\n          0.2989566983658018,\n          0.051611116240421,\n          0.7540393315483335\n        ],\n        \"semantic_type\": \"\",\n        \"description\": \"\"\n      }\n    },\n    {\n      \"column\": \"bmi\",\n      \"properties\": {\n        \"dtype\": \"number\",\n        \"std\": 0.07460021337282652,\n        \"min\": 0.0,\n        \"max\": 1.0,\n        \"num_unique_values\": 4861,\n        \"samples\": [\n          0.1331308751948851,\n          0.248207385954274,\n          0.197526325463402\n        ],\n        \"semantic_type\": \"\",\n        \"description\": \"\"\n      }\n    },\n    {\n      \"column\": \"smoking_status\",\n      \"properties\": {\n        \"dtype\": \"number\",\n        \"std\": 0.33044580076721347,\n        \"min\": 0.0,\n        \"max\": 1.0,\n        \"num_unique_values\": 1831,\n        \"samples\": [\n          0.2109342035538356,\n          0.1967091353088473,\n          0.8116558250080167\n        ],\n        \"semantic_type\": \"\",\n        \"description\": \"\"\n      }\n    },\n    {\n      \"column\": \"stroke\",\n      \"properties\": {\n        \"dtype\": \"number\",\n        \"std\": 0,\n        \"min\": 0,\n        \"max\": 1,\n        \"num_unique_values\": 2,\n        \"samples\": [\n          0,\n          1\n        ],\n        \"semantic_type\": \"\",\n        \"description\": \"\"\n      }\n    }\n  ]\n}"
            }
          },
          "metadata": {},
          "execution_count": 4
        }
      ],
      "source": [
        "df.head()"
      ]
    },
    {
      "cell_type": "code",
      "execution_count": 5,
      "id": "8884e152-8a12-49dc-825a-84dcaea5aa08",
      "metadata": {
        "colab": {
          "base_uri": "https://localhost:8080/"
        },
        "id": "8884e152-8a12-49dc-825a-84dcaea5aa08",
        "outputId": "452522d6-3f01-48ae-aa37-38caa987c591"
      },
      "outputs": [
        {
          "output_type": "execute_result",
          "data": {
            "text/plain": [
              "(9722, 11)"
            ]
          },
          "metadata": {},
          "execution_count": 5
        }
      ],
      "source": [
        "df.shape"
      ]
    },
    {
      "cell_type": "code",
      "execution_count": 6,
      "id": "b6bc190a-6dc0-477f-b28f-133e6c69579d",
      "metadata": {
        "colab": {
          "base_uri": "https://localhost:8080/"
        },
        "id": "b6bc190a-6dc0-477f-b28f-133e6c69579d",
        "outputId": "212a6949-5b38-4232-9d0f-7d07b6d75c68"
      },
      "outputs": [
        {
          "output_type": "stream",
          "name": "stdout",
          "text": [
            "<class 'pandas.core.frame.DataFrame'>\n",
            "RangeIndex: 9722 entries, 0 to 9721\n",
            "Data columns (total 11 columns):\n",
            " #   Column             Non-Null Count  Dtype  \n",
            "---  ------             --------------  -----  \n",
            " 0   gender             9722 non-null   float64\n",
            " 1   age                9722 non-null   float64\n",
            " 2   hypertension       9722 non-null   float64\n",
            " 3   heart_disease      9722 non-null   float64\n",
            " 4   ever_married       9722 non-null   float64\n",
            " 5   work_type          9722 non-null   float64\n",
            " 6   Residence_type     9722 non-null   float64\n",
            " 7   avg_glucose_level  9722 non-null   float64\n",
            " 8   bmi                9722 non-null   float64\n",
            " 9   smoking_status     9722 non-null   float64\n",
            " 10  stroke             9722 non-null   int64  \n",
            "dtypes: float64(10), int64(1)\n",
            "memory usage: 835.6 KB\n"
          ]
        }
      ],
      "source": [
        "df.info()"
      ]
    },
    {
      "cell_type": "code",
      "execution_count": 7,
      "id": "9679f0c7-ada0-4f40-b062-a7d2e7c97994",
      "metadata": {
        "colab": {
          "base_uri": "https://localhost:8080/",
          "height": 241
        },
        "id": "9679f0c7-ada0-4f40-b062-a7d2e7c97994",
        "outputId": "edc38635-4ec9-485d-e987-f431480ca3b9"
      },
      "outputs": [
        {
          "output_type": "execute_result",
          "data": {
            "text/plain": [
              "gender           0\n",
              "age              0\n",
              "hypertension     0\n",
              "heart_disease    0\n",
              "ever_married     0\n",
              "dtype: int64"
            ],
            "text/html": [
              "<div>\n",
              "<style scoped>\n",
              "    .dataframe tbody tr th:only-of-type {\n",
              "        vertical-align: middle;\n",
              "    }\n",
              "\n",
              "    .dataframe tbody tr th {\n",
              "        vertical-align: top;\n",
              "    }\n",
              "\n",
              "    .dataframe thead th {\n",
              "        text-align: right;\n",
              "    }\n",
              "</style>\n",
              "<table border=\"1\" class=\"dataframe\">\n",
              "  <thead>\n",
              "    <tr style=\"text-align: right;\">\n",
              "      <th></th>\n",
              "      <th>0</th>\n",
              "    </tr>\n",
              "  </thead>\n",
              "  <tbody>\n",
              "    <tr>\n",
              "      <th>gender</th>\n",
              "      <td>0</td>\n",
              "    </tr>\n",
              "    <tr>\n",
              "      <th>age</th>\n",
              "      <td>0</td>\n",
              "    </tr>\n",
              "    <tr>\n",
              "      <th>hypertension</th>\n",
              "      <td>0</td>\n",
              "    </tr>\n",
              "    <tr>\n",
              "      <th>heart_disease</th>\n",
              "      <td>0</td>\n",
              "    </tr>\n",
              "    <tr>\n",
              "      <th>ever_married</th>\n",
              "      <td>0</td>\n",
              "    </tr>\n",
              "  </tbody>\n",
              "</table>\n",
              "</div><br><label><b>dtype:</b> int64</label>"
            ]
          },
          "metadata": {},
          "execution_count": 7
        }
      ],
      "source": [
        "df.isnull().sum().sort_values(ascending = False).head(5)"
      ]
    },
    {
      "cell_type": "code",
      "execution_count": 8,
      "id": "e6701745-4644-4bf3-b3b8-aef608483241",
      "metadata": {
        "colab": {
          "base_uri": "https://localhost:8080/"
        },
        "id": "e6701745-4644-4bf3-b3b8-aef608483241",
        "outputId": "7ef6f876-0f4d-473c-bb2d-be0077d61481"
      },
      "outputs": [
        {
          "output_type": "execute_result",
          "data": {
            "text/plain": [
              "0"
            ]
          },
          "metadata": {},
          "execution_count": 8
        }
      ],
      "source": [
        "df.duplicated().sum()"
      ]
    },
    {
      "cell_type": "code",
      "execution_count": 9,
      "id": "df17fdad-22ef-4dad-8bd1-ac6df01a6b19",
      "metadata": {
        "id": "df17fdad-22ef-4dad-8bd1-ac6df01a6b19"
      },
      "outputs": [],
      "source": [
        "X=df.iloc[:,:-1]\n",
        "y=df.iloc[:,-1]"
      ]
    },
    {
      "cell_type": "code",
      "execution_count": 10,
      "id": "e502ccc5-b751-4175-8011-c8866b9bda5a",
      "metadata": {
        "id": "e502ccc5-b751-4175-8011-c8866b9bda5a"
      },
      "outputs": [],
      "source": [
        "# MinMaxScaler\n",
        "from sklearn.preprocessing import MinMaxScaler\n",
        "my_scaler = MinMaxScaler()\n",
        "X = my_scaler.fit_transform(X)"
      ]
    },
    {
      "cell_type": "markdown",
      "id": "cdf07608",
      "metadata": {
        "id": "cdf07608"
      },
      "source": [
        "# Spliting Data\n",
        "### train test split"
      ]
    },
    {
      "cell_type": "code",
      "execution_count": 11,
      "id": "e159c4c9",
      "metadata": {
        "id": "e159c4c9"
      },
      "outputs": [],
      "source": [
        "# Split into Input and Output Elements\n",
        "from sklearn.model_selection import train_test_split\n",
        "X_train, X_test, y_train, y_test = train_test_split(X,y,\n",
        "                                   test_size= 0.20, random_state=100, stratify=y)"
      ]
    },
    {
      "cell_type": "code",
      "execution_count": 12,
      "id": "4b382337-a84c-4ad9-94af-92b1b1629423",
      "metadata": {
        "colab": {
          "base_uri": "https://localhost:8080/"
        },
        "id": "4b382337-a84c-4ad9-94af-92b1b1629423",
        "outputId": "8c51d8f4-a145-414e-e4de-6f3fd94861fc"
      },
      "outputs": [
        {
          "output_type": "execute_result",
          "data": {
            "text/plain": [
              "((7777, 10), (7777,))"
            ]
          },
          "metadata": {},
          "execution_count": 12
        }
      ],
      "source": [
        "X_train.shape ,y_train.shape"
      ]
    },
    {
      "cell_type": "code",
      "execution_count": 13,
      "id": "7320852e",
      "metadata": {
        "colab": {
          "base_uri": "https://localhost:8080/"
        },
        "id": "7320852e",
        "outputId": "2cab5f84-c309-48a6-f930-48097920cead"
      },
      "outputs": [
        {
          "output_type": "execute_result",
          "data": {
            "text/plain": [
              "((1945, 10), (1945,))"
            ]
          },
          "metadata": {},
          "execution_count": 13
        }
      ],
      "source": [
        "X_test.shape ,y_test.shape"
      ]
    },
    {
      "cell_type": "markdown",
      "id": "59996584",
      "metadata": {
        "id": "59996584"
      },
      "source": [
        "# Decision Tree"
      ]
    },
    {
      "cell_type": "code",
      "execution_count": 16,
      "id": "1883685c",
      "metadata": {
        "colab": {
          "base_uri": "https://localhost:8080/"
        },
        "id": "1883685c",
        "outputId": "f6cbb7d7-5ff4-4360-c89c-4d01d4781d16"
      },
      "outputs": [
        {
          "output_type": "stream",
          "name": "stdout",
          "text": [
            "DTModel Train Score is :  1.0\n",
            "DTModel Test Score is :  0.900771208226221\n"
          ]
        }
      ],
      "source": [
        "from sklearn.tree import DecisionTreeClassifier\n",
        "\"\"\"\n",
        "Gini is faster and works well for most cases. (Speed Faster)\n",
        "Entropy provides more precise splits but is computationally expensive. (speed Slower than Gini)\n",
        "Log Loss is used when probability estimates are required. (speed Slowest)\n",
        "\"\"\"\n",
        "DTModel = DecisionTreeClassifier(criterion='gini') #'log_loss', 'entropy', 'gini'\n",
        "DTModel.fit(X_train,y_train)\n",
        "print('DTModel Train Score is : ',DTModel.score(X_train,y_train))\n",
        "print('DTModel Test Score is : ',DTModel.score(X_test,y_test))"
      ]
    },
    {
      "cell_type": "code",
      "execution_count": 18,
      "id": "2a96dfbe",
      "metadata": {
        "id": "2a96dfbe"
      },
      "outputs": [],
      "source": [
        "y_pred=DTModel.predict(X_test)"
      ]
    },
    {
      "cell_type": "code",
      "execution_count": 19,
      "id": "093e3c37-8647-40c4-9703-c1beea191928",
      "metadata": {
        "colab": {
          "base_uri": "https://localhost:8080/"
        },
        "id": "093e3c37-8647-40c4-9703-c1beea191928",
        "outputId": "c00edf6b-850e-468c-c0b9-8c7df7182a73"
      },
      "outputs": [
        {
          "output_type": "stream",
          "name": "stdout",
          "text": [
            "actual Output  :  [0, 0, 1, 1, 1]\n",
            "predict output :  [0, 0, 1, 1, 1]\n"
          ]
        }
      ],
      "source": [
        "print('actual Output  : ',(y_test[:5].tolist()))\n",
        "print('predict output : ',y_pred[:5].tolist())"
      ]
    },
    {
      "cell_type": "code",
      "execution_count": 20,
      "id": "9582645c-74d5-454c-938b-0b886b0ace5a",
      "metadata": {
        "colab": {
          "base_uri": "https://localhost:8080/"
        },
        "id": "9582645c-74d5-454c-938b-0b886b0ace5a",
        "outputId": "057e2aaa-efaf-4514-d149-d0504a2f3211"
      },
      "outputs": [
        {
          "output_type": "execute_result",
          "data": {
            "text/plain": [
              "array([[863, 110],\n",
              "       [ 83, 889]])"
            ]
          },
          "metadata": {},
          "execution_count": 20
        }
      ],
      "source": [
        "from sklearn.metrics import classification_report ,confusion_matrix\n",
        "cm = confusion_matrix(y_test, y_pred)\n",
        "cm\n"
      ]
    },
    {
      "cell_type": "code",
      "source": [
        "# رسم المصفوفة باستخدام Seaborn\n",
        "import matplotlib.pyplot as plt\n",
        "import seaborn as sns\n",
        "plt.figure(figsize=(6,4))\n",
        "sns.heatmap(cm, annot=True, fmt=\"d\", cmap=\"Purples\")\n",
        "#cmap=\"Blues\" or \"coolwarm\" or \"Greens\" or \"Reds\" or \"Purples\" or \"Oranges\" or \"magma\" or \"cividis\" or \"viridis\"\n",
        "plt.xlabel(\"Predicted Label\")\n",
        "plt.ylabel(\"True Label\")\n",
        "plt.title(\"Confusion Matrix\")\n",
        "plt.show()"
      ],
      "metadata": {
        "colab": {
          "base_uri": "https://localhost:8080/",
          "height": 410
        },
        "id": "YylLEUhpoPr6",
        "outputId": "cf0a3d43-2fd5-481f-c622-88905d596230"
      },
      "id": "YylLEUhpoPr6",
      "execution_count": 26,
      "outputs": [
        {
          "output_type": "display_data",
          "data": {
            "text/plain": [
              "<Figure size 600x400 with 2 Axes>"
            ],
            "image/png": "[encoded data removed]"
          },
          "metadata": {}
        }
      ]
    },
    {
      "cell_type": "code",
      "execution_count": 35,
      "id": "b7e53d0f",
      "metadata": {
        "scrolled": true,
        "colab": {
          "base_uri": "https://localhost:8080/"
        },
        "id": "b7e53d0f",
        "outputId": "178fb5b5-730f-45af-8d8b-043abc726512"
      },
      "outputs": [
        {
          "output_type": "stream",
          "name": "stdout",
          "text": [
            "              precision    recall  f1-score   support\n",
            "\n",
            "           0       0.96      0.95      0.96       973\n",
            "           1       0.95      0.96      0.96       972\n",
            "\n",
            "    accuracy                           0.96      1945\n",
            "   macro avg       0.96      0.96      0.96      1945\n",
            "weighted avg       0.96      0.96      0.96      1945\n",
            "\n"
          ]
        }
      ],
      "source": [
        "print(classification_report(y_test,y_pred))"
      ]
    },
    {
      "cell_type": "code",
      "execution_count": 36,
      "id": "0ac18d48",
      "metadata": {
        "colab": {
          "base_uri": "https://localhost:8080/",
          "height": 410
        },
        "id": "0ac18d48",
        "outputId": "1e8123fe-e9cf-408a-c2f8-a6bc9a1f3d6b"
      },
      "outputs": [
        {
          "output_type": "display_data",
          "data": {
            "text/plain": [
              "<Figure size 600x400 with 1 Axes>"
            ],
            "image/png": "[encoded data removed]"
          },
          "metadata": {}
        }
      ],
      "source": [
        "from sklearn.metrics import roc_curve, auc\n",
        "\n",
        "y_probs = DTModel.predict_proba(X_test)[:,1]  # الحصول على الاحتمالات للفئة الإيجابية\n",
        "fpr, tpr, _ = roc_curve(y_test, y_probs)\n",
        "roc_auc = auc(fpr, tpr) #False Positive Rate  FPR=FP/TN+FP​(It represents the proportion of negative samples that were incorrectly classified as positive.)\n",
        "\n",
        "plt.figure(figsize=(6,4))\n",
        "plt.plot(fpr, tpr, color='blue', lw=2, label='AUC = %0.2f' % roc_auc)\n",
        "plt.plot([0, 1], [0, 1], color='grey', linestyle='--')  # الخط العشوائي\n",
        "plt.xlabel(\"False Positive Rate\")\n",
        "plt.ylabel(\"True Positive Rate\")\n",
        "plt.title(\"ROC Curve\")\n",
        "plt.legend()\n",
        "plt.show()\n",
        "#إذا كان AUC قريبًا من 1، فهذا يعني أن النموذج جيد، وإذا كان قريبًا من 0.5، فالنموذج ضعيف.\n"
      ]
    },
    {
      "cell_type": "code",
      "execution_count": null,
      "id": "7a127ced",
      "metadata": {
        "id": "7a127ced"
      },
      "outputs": [],
      "source": []
    },
    {
      "cell_type": "markdown",
      "id": "2b7034a0-37f8-4038-965f-e302e39747e8",
      "metadata": {
        "id": "2b7034a0-37f8-4038-965f-e302e39747e8"
      },
      "source": [
        "# Random Forest"
      ]
    },
    {
      "cell_type": "code",
      "execution_count": 27,
      "id": "584e2029-e56f-4ff6-b195-1710728e20ce",
      "metadata": {
        "colab": {
          "base_uri": "https://localhost:8080/"
        },
        "id": "584e2029-e56f-4ff6-b195-1710728e20ce",
        "outputId": "c97e5125-52d9-4b4c-a36d-bb3c4f011b9a"
      },
      "outputs": [
        {
          "output_type": "stream",
          "name": "stdout",
          "text": [
            "DTModel Train Score is :  0.9994856628519995\n",
            "DTModel Test Score is :  0.9573264781491002\n"
          ]
        }
      ],
      "source": [
        "from sklearn.ensemble import RandomForestClassifier\n",
        "RFModel = RandomForestClassifier(n_estimators=20,criterion='entropy',max_depth=50)\n",
        "RFModel.fit(X_train,y_train)\n",
        "print('DTModel Train Score is : ',RFModel.score(X_train,y_train))\n",
        "print('DTModel Test Score is : ',RFModel.score(X_test,y_test))"
      ]
    },
    {
      "cell_type": "code",
      "execution_count": 28,
      "id": "6e30e771-78ab-474e-8b8f-0381bd1c6e5d",
      "metadata": {
        "id": "6e30e771-78ab-474e-8b8f-0381bd1c6e5d"
      },
      "outputs": [],
      "source": [
        "y_pred=RFModel.predict(X_test)"
      ]
    },
    {
      "cell_type": "code",
      "execution_count": 29,
      "id": "809e3a67-6a53-4960-9dcb-fd5950518d8e",
      "metadata": {
        "colab": {
          "base_uri": "https://localhost:8080/"
        },
        "id": "809e3a67-6a53-4960-9dcb-fd5950518d8e",
        "outputId": "4559bb01-63ba-4d8d-a1c9-61858b637eca"
      },
      "outputs": [
        {
          "output_type": "stream",
          "name": "stdout",
          "text": [
            "actual Output  :  [0, 0, 1, 1, 1]\n",
            "predict output :  [0, 0, 1, 1, 1]\n"
          ]
        }
      ],
      "source": [
        "print('actual Output  : ',(y_test[:5].tolist()))\n",
        "print('predict output : ',y_pred[:5].tolist())"
      ]
    },
    {
      "cell_type": "code",
      "execution_count": 30,
      "id": "627eafc5-db3e-469b-899d-74ded8e6ce4a",
      "metadata": {
        "colab": {
          "base_uri": "https://localhost:8080/"
        },
        "id": "627eafc5-db3e-469b-899d-74ded8e6ce4a",
        "outputId": "eeb9cb52-d940-4b29-b494-9a897b8345b9"
      },
      "outputs": [
        {
          "output_type": "execute_result",
          "data": {
            "text/plain": [
              "array([[928,  45],\n",
              "       [ 38, 934]])"
            ]
          },
          "metadata": {},
          "execution_count": 30
        }
      ],
      "source": [
        "from sklearn.metrics import classification_report ,confusion_matrix\n",
        "cm=confusion_matrix(y_test,y_pred)\n",
        "cm"
      ]
    },
    {
      "cell_type": "code",
      "execution_count": 31,
      "id": "733081ee-914e-4dd0-b50c-1536dba090bf",
      "metadata": {
        "colab": {
          "base_uri": "https://localhost:8080/",
          "height": 410
        },
        "id": "733081ee-914e-4dd0-b50c-1536dba090bf",
        "outputId": "70612d85-1169-43a6-cc51-b686d09f279b"
      },
      "outputs": [
        {
          "output_type": "display_data",
          "data": {
            "text/plain": [
              "<Figure size 600x400 with 2 Axes>"
            ],
            "image/png": "[encoded data removed]"
          },
          "metadata": {}
        }
      ],
      "source": [
        "plt.figure(figsize=(6,4))\n",
        "sns.heatmap(cm, annot=True, fmt=\"d\", cmap=\"Blues\", xticklabels=set(y_test), yticklabels=set(y_test))\n",
        "plt.xlabel(\"Predicted Label\")\n",
        "plt.ylabel(\"True Label\")\n",
        "plt.title(\"Confusion Matrix for Random Forest\")\n",
        "plt.show()"
      ]
    },
    {
      "cell_type": "code",
      "execution_count": 33,
      "id": "a659c641-c7dd-40b8-b949-ca5efc5144d8",
      "metadata": {
        "scrolled": true,
        "colab": {
          "base_uri": "https://localhost:8080/"
        },
        "id": "a659c641-c7dd-40b8-b949-ca5efc5144d8",
        "outputId": "40632a32-8847-49ad-eed8-3f5115bd13bf"
      },
      "outputs": [
        {
          "output_type": "stream",
          "name": "stdout",
          "text": [
            "              precision    recall  f1-score   support\n",
            "\n",
            "           0       0.96      0.95      0.96       973\n",
            "           1       0.95      0.96      0.96       972\n",
            "\n",
            "    accuracy                           0.96      1945\n",
            "   macro avg       0.96      0.96      0.96      1945\n",
            "weighted avg       0.96      0.96      0.96      1945\n",
            "\n"
          ]
        }
      ],
      "source": [
        "from sklearn.metrics import classification_report\n",
        "\n",
        "print(classification_report(y_test, y_pred))\n"
      ]
    },
    {
      "cell_type": "code",
      "source": [
        "from sklearn.metrics import roc_curve, auc\n",
        "\n",
        "y_probs = RFModel.predict_proba(X_test)[:,1]  # الحصول على الاحتمالات للفئة الإيجابية\n",
        "fpr, tpr, _ = roc_curve(y_test, y_probs)\n",
        "roc_auc = auc(fpr, tpr) #False Positive Rate  FPR=FP/TN+FP​(It represents the proportion of negative samples that were incorrectly classified as positive.)\n",
        "\n",
        "plt.figure(figsize=(6,4))\n",
        "plt.plot(fpr, tpr, color='blue', lw=2, label='AUC = %0.2f' % roc_auc)\n",
        "plt.plot([0, 1], [0, 1], color='grey', linestyle='--')  # الخط العشوائي\n",
        "plt.xlabel(\"False Positive Rate\")\n",
        "plt.ylabel(\"True Positive Rate\")\n",
        "plt.title(\"ROC Curve\")\n",
        "plt.legend()\n",
        "plt.show()\n",
        "#إذا كان AUC قريبًا من 1، فهذا يعني أن النموذج جيد، وإذا كان قريبًا من 0.5، فالنموذج ضعيف.\n"
      ],
      "metadata": {
        "colab": {
          "base_uri": "https://localhost:8080/",
          "height": 410
        },
        "id": "HhX56YbKqT31",
        "outputId": "6662ba92-231e-4d23-b7c2-cfc72c8b4821"
      },
      "id": "HhX56YbKqT31",
      "execution_count": 34,
      "outputs": [
        {
          "output_type": "display_data",
          "data": {
            "text/plain": [
              "<Figure size 600x400 with 1 Axes>"
            ],
            "image/png": "[encoded data removed]"
          },
          "metadata": {}
        }
      ]
    },
    {
      "cell_type": "markdown",
      "source": [
        "# SVM **Model**"
      ],
      "metadata": {
        "id": "qH1wEikCtTHM"
      },
      "id": "qH1wEikCtTHM"
    },
    {
      "cell_type": "code",
      "source": [
        "from sklearn.metrics import accuracy_score\n",
        "from sklearn.svm import SVC\n",
        "classifier = SVC(kernel='linear', random_state = 0,C=.001) # # You can change kernel: 'linear', 'poly', 'rbf', 'sigmoid'\n",
        "classifier.fit(X_train, y_train)\n",
        "acc_train = classifier.score(X_train,y_train)\n",
        "print(acc_train)"
      ],
      "metadata": {
        "colab": {
          "base_uri": "https://localhost:8080/"
        },
        "id": "zcnpf9YatYn5",
        "outputId": "9b0347d3-4557-4455-ebf7-fe8ca16a607a"
      },
      "id": "zcnpf9YatYn5",
      "execution_count": 41,
      "outputs": [
        {
          "output_type": "stream",
          "name": "stdout",
          "text": [
            "0.6996271055676996\n"
          ]
        }
      ]
    },
    {
      "cell_type": "code",
      "source": [
        "y_pred = classifier.predict(X_test)\n",
        "acc_test = accuracy_score(y_test, y_pred)\n",
        "print(acc_test)\n"
      ],
      "metadata": {
        "colab": {
          "base_uri": "https://localhost:8080/"
        },
        "id": "8k7_uSsuuGxz",
        "outputId": "3b372bb5-8ae1-40c5-ac95-6118ad1acc82"
      },
      "id": "8k7_uSsuuGxz",
      "execution_count": 42,
      "outputs": [
        {
          "output_type": "stream",
          "name": "stdout",
          "text": [
            "0.7012853470437018\n"
          ]
        }
      ]
    },
    {
      "cell_type": "markdown",
      "source": [
        "# **Difference Between SVM Kernels ('linear', 'poly', 'rbf', 'sigmoid')**\n",
        "\n",
        "\n",
        "The kernel function in SVM determines how the data is mapped into a higher-dimensional space to make it separable. The choice of the kernel depends on the nature of the dataset.\n",
        "\n",
        "Linear Kernel (kernel='linear')\n",
        "\n",
        "✅ Best for: Linearly separable data\n",
        "Pros:\n",
        "\n",
        "    Fast training and prediction.\n",
        "    Works well when data is already linearly separable.\n",
        "     Cons:\n",
        "\n",
        "    Cannot handle non-linear relationships.\n",
        "📌 When to Use?\n",
        "\n",
        "    When the dataset is linearly separable (i.e., a straight line can separate the classes).\n",
        "    When interpretability is important."
      ],
      "metadata": {
        "id": "QU-sOjnwvGfR"
      },
      "id": "QU-sOjnwvGfR"
    },
    {
      "cell_type": "code",
      "source": [
        "classifier = SVC(kernel='sigmoid', gamma=.02,random_state = 0,C=500)\n",
        "classifier.fit(X_train, y_train)\n",
        "acc_train = classifier.score(X_train,y_train)\n",
        "print(acc_train)"
      ],
      "metadata": {
        "colab": {
          "base_uri": "https://localhost:8080/"
        },
        "id": "6yD5UW0VudB9",
        "outputId": "94f7c7ca-1a51-4add-fe39-11850f9ac814"
      },
      "id": "6yD5UW0VudB9",
      "execution_count": 43,
      "outputs": [
        {
          "output_type": "stream",
          "name": "stdout",
          "text": [
            "0.7288157387167288\n"
          ]
        }
      ]
    },
    {
      "cell_type": "code",
      "source": [
        "y_pred = classifier.predict(X_test)\n",
        "acc_test = accuracy_score(y_test, y_pred)\n",
        "print(acc_test)"
      ],
      "metadata": {
        "colab": {
          "base_uri": "https://localhost:8080/"
        },
        "id": "uIyO-aEjuiDV",
        "outputId": "822ba843-1149-4ae4-d1ef-51b1af18df56"
      },
      "id": "uIyO-aEjuiDV",
      "execution_count": 44,
      "outputs": [
        {
          "output_type": "stream",
          "name": "stdout",
          "text": [
            "0.7377892030848329\n"
          ]
        }
      ]
    },
    {
      "cell_type": "markdown",
      "source": [
        "# **Sigmoid Kernel (kernel='sigmoid')**\n",
        "\n",
        "✅ Best for: When the relationship is similar to a neural network activation function.\n",
        "✅ Pros:\n",
        "\n",
        "    Similar to a neural network with a single hidden layer.\n",
        "    Can be useful when dealing with probabilistic problems.\n",
        "\n",
        "✅ Cons:\n",
        "\n",
        "    Often performs worse than RBF.\n",
        "    Can lead to convergence issues.\n",
        "📌 When to Use?\n",
        "\n",
        "    Rarely used, but can be tested when the data behaves similarly to a neural network activation function."
      ],
      "metadata": {
        "id": "ExlZP6lLv3Qq"
      },
      "id": "ExlZP6lLv3Qq"
    },
    {
      "cell_type": "code",
      "source": [
        "classifier = SVC(kernel='poly', degree=3,random_state = 0,C=.01)\n",
        "classifier.fit(X_train, y_train)\n",
        "acc_train = classifier.score(X_train,y_train)\n",
        "print(acc_train)"
      ],
      "metadata": {
        "colab": {
          "base_uri": "https://localhost:8080/"
        },
        "id": "4qUIMbjXuoOC",
        "outputId": "02d7c436-f51c-4d5f-baad-29c8bf7f57a9"
      },
      "id": "4qUIMbjXuoOC",
      "execution_count": 45,
      "outputs": [
        {
          "output_type": "stream",
          "name": "stdout",
          "text": [
            "0.7871930050147872\n"
          ]
        }
      ]
    },
    {
      "cell_type": "code",
      "source": [
        "y_pred = classifier.predict(X_test)\n",
        "acc_test = accuracy_score(y_test, y_pred)\n",
        "print(acc_test)"
      ],
      "metadata": {
        "colab": {
          "base_uri": "https://localhost:8080/"
        },
        "id": "7IbQtb1TurzT",
        "outputId": "776176c2-77bc-4528-c24c-4fe1c6597370"
      },
      "id": "7IbQtb1TurzT",
      "execution_count": 46,
      "outputs": [
        {
          "output_type": "stream",
          "name": "stdout",
          "text": [
            "0.7964010282776349\n"
          ]
        }
      ]
    },
    {
      "cell_type": "markdown",
      "source": [
        "Polynomial Kernel (kernel='poly')\n",
        "\n",
        "✅ Best for: Data that follows a polynomial decision boundary.\n",
        "\n",
        "✅ Pros:\n",
        "\n",
        "    Can model more complex patterns than a linear kernel.\n",
        "    Useful when the decision boundary is curved.\n",
        "\n",
        "✅ Cons:\n",
        "\n",
        "    Computationally expensive.\n",
        "    More prone to overfitting with high degrees.\n",
        "📌 When to Use?\n",
        "\n",
        "    When data is not linearly separable but follows a polynomial decision boundary.\n",
        "    When higher-degree interactions are needed.\n"
      ],
      "metadata": {
        "id": "6toeLVl_wStS"
      },
      "id": "6toeLVl_wStS"
    },
    {
      "cell_type": "markdown",
      "source": [
        "![image.png](data:image/png;base64,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)"
      ],
      "metadata": {
        "id": "vsfHotDOwuTs"
      },
      "id": "vsfHotDOwuTs"
    }
  ],
  "metadata": {
    "kernelspec": {
      "display_name": "Python 3 (ipykernel)",
      "language": "python",
      "name": "python3"
    },
    "language_info": {
      "codemirror_mode": {
        "name": "ipython",
        "version": 3
      },
      "file_extension": ".py",
      "mimetype": "text/x-python",
      "name": "python",
      "nbconvert_exporter": "python",
      "pygments_lexer": "ipython3",
      "version": "3.11.5"
    },
    "colab": {
      "provenance": []
    }
  },
  "nbformat": 4,
  "nbformat_minor": 5
}